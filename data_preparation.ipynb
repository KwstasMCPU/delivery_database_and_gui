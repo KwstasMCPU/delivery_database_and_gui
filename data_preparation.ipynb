{
 "cells": [
  {
   "cell_type": "markdown",
   "metadata": {},
   "source": [
    "# COMP500 COURSEWORK\n",
    "## DATA EXPLORATION"
   ]
  },
  {
   "cell_type": "markdown",
   "metadata": {},
   "source": [
    "### IMPORTING LIBRARIES"
   ]
  },
  {
   "cell_type": "code",
   "execution_count": 1,
   "metadata": {},
   "outputs": [],
   "source": [
    "# importing libaries\n",
    "import numpy as np\n",
    "import pandas as pd\n",
    "import matplotlib.pyplot as plt\n",
    "import seaborn as sns\n",
    "from IPython.display import display\n",
    "%matplotlib inline"
   ]
  },
  {
   "cell_type": "code",
   "execution_count": 2,
   "metadata": {},
   "outputs": [
    {
     "data": {
      "text/plain": [
       "'1.1.5'"
      ]
     },
     "execution_count": 2,
     "metadata": {},
     "output_type": "execute_result"
    }
   ],
   "source": [
    "pd.__version__"
   ]
  },
  {
   "cell_type": "code",
   "execution_count": 3,
   "metadata": {},
   "outputs": [],
   "source": [
    "# we set the option to see all the columns\n",
    "pd.set_option('display.max_columns', None)\n",
    "pd.set_option('display.max_rows', 15)"
   ]
  },
  {
   "cell_type": "markdown",
   "metadata": {},
   "source": [
    "## READING DATA FROM THE .CSV FILES\n",
    "### data exploration"
   ]
  },
  {
   "cell_type": "markdown",
   "metadata": {},
   "source": [
    "#### orders"
   ]
  },
  {
   "cell_type": "code",
   "execution_count": 4,
   "metadata": {},
   "outputs": [
    {
     "name": "stderr",
     "output_type": "stream",
     "text": [
      "C:\\Users\\kwsta\\master_projects\\Comp5000\\comp500crw\\lib\\site-packages\\IPython\\core\\interactiveshell.py:3146: DtypeWarning: Columns (15,16,18,19,20) have mixed types.Specify dtype option on import or set low_memory=False.\n",
      "  has_raised = await self.run_ast_nodes(code_ast.body, cell_name,\n"
     ]
    },
    {
     "data": {
      "text/plain": [
       "Index(['akeed_order_id', 'customer_id', 'item_count', 'grand_total',\n",
       "       'payment_mode', 'promo_code', 'vendor_discount_amount',\n",
       "       'promo_code_discount_percentage', 'is_favorite', 'is_rated',\n",
       "       'vendor_rating', 'driver_rating', 'deliverydistance', 'preparationtime',\n",
       "       'delivery_time', 'order_accepted_time', 'driver_accepted_time',\n",
       "       'ready_for_pickup_time', 'picked_up_time', 'delivered_time',\n",
       "       'delivery_date', 'vendor_id', 'created_at', 'LOCATION_NUMBER',\n",
       "       'LOCATION_TYPE', 'CID X LOC_NUM X VENDOR'],\n",
       "      dtype='object')"
      ]
     },
     "execution_count": 4,
     "metadata": {},
     "output_type": "execute_result"
    }
   ],
   "source": [
    "df_orders =pd.read_csv('data/orders.csv')\n",
    "df_orders.columns"
   ]
  },
  {
   "cell_type": "code",
   "execution_count": 5,
   "metadata": {},
   "outputs": [
    {
     "data": {
      "text/html": [
       "<div>\n",
       "<style scoped>\n",
       "    .dataframe tbody tr th:only-of-type {\n",
       "        vertical-align: middle;\n",
       "    }\n",
       "\n",
       "    .dataframe tbody tr th {\n",
       "        vertical-align: top;\n",
       "    }\n",
       "\n",
       "    .dataframe thead th {\n",
       "        text-align: right;\n",
       "    }\n",
       "</style>\n",
       "<table border=\"1\" class=\"dataframe\">\n",
       "  <thead>\n",
       "    <tr style=\"text-align: right;\">\n",
       "      <th></th>\n",
       "      <th>akeed_order_id</th>\n",
       "      <th>customer_id</th>\n",
       "      <th>item_count</th>\n",
       "      <th>grand_total</th>\n",
       "      <th>payment_mode</th>\n",
       "      <th>promo_code</th>\n",
       "      <th>vendor_discount_amount</th>\n",
       "      <th>promo_code_discount_percentage</th>\n",
       "      <th>is_favorite</th>\n",
       "      <th>is_rated</th>\n",
       "      <th>vendor_rating</th>\n",
       "      <th>driver_rating</th>\n",
       "      <th>deliverydistance</th>\n",
       "      <th>preparationtime</th>\n",
       "      <th>delivery_time</th>\n",
       "      <th>order_accepted_time</th>\n",
       "      <th>driver_accepted_time</th>\n",
       "      <th>ready_for_pickup_time</th>\n",
       "      <th>picked_up_time</th>\n",
       "      <th>delivered_time</th>\n",
       "      <th>delivery_date</th>\n",
       "      <th>vendor_id</th>\n",
       "      <th>created_at</th>\n",
       "      <th>LOCATION_NUMBER</th>\n",
       "      <th>LOCATION_TYPE</th>\n",
       "      <th>CID X LOC_NUM X VENDOR</th>\n",
       "    </tr>\n",
       "  </thead>\n",
       "  <tbody>\n",
       "    <tr>\n",
       "      <th>0</th>\n",
       "      <td>163238.0</td>\n",
       "      <td>92PEE24</td>\n",
       "      <td>1.0</td>\n",
       "      <td>7.6</td>\n",
       "      <td>2</td>\n",
       "      <td>NaN</td>\n",
       "      <td>0.0</td>\n",
       "      <td>NaN</td>\n",
       "      <td>NaN</td>\n",
       "      <td>No</td>\n",
       "      <td>NaN</td>\n",
       "      <td>0.0</td>\n",
       "      <td>0.0</td>\n",
       "      <td>NaN</td>\n",
       "      <td>NaN</td>\n",
       "      <td>NaN</td>\n",
       "      <td>NaN</td>\n",
       "      <td>NaN</td>\n",
       "      <td>NaN</td>\n",
       "      <td>NaN</td>\n",
       "      <td>2019-07-31 05:30:00</td>\n",
       "      <td>105</td>\n",
       "      <td>2019-08-01 05:30:16</td>\n",
       "      <td>0</td>\n",
       "      <td>NaN</td>\n",
       "      <td>92PEE24 X 0 X 105</td>\n",
       "    </tr>\n",
       "    <tr>\n",
       "      <th>1</th>\n",
       "      <td>163240.0</td>\n",
       "      <td>QS68UD8</td>\n",
       "      <td>1.0</td>\n",
       "      <td>8.7</td>\n",
       "      <td>1</td>\n",
       "      <td>NaN</td>\n",
       "      <td>0.0</td>\n",
       "      <td>NaN</td>\n",
       "      <td>NaN</td>\n",
       "      <td>No</td>\n",
       "      <td>NaN</td>\n",
       "      <td>0.0</td>\n",
       "      <td>0.0</td>\n",
       "      <td>NaN</td>\n",
       "      <td>NaN</td>\n",
       "      <td>NaN</td>\n",
       "      <td>NaN</td>\n",
       "      <td>NaN</td>\n",
       "      <td>NaN</td>\n",
       "      <td>NaN</td>\n",
       "      <td>2019-07-31 05:30:00</td>\n",
       "      <td>294</td>\n",
       "      <td>2019-08-01 05:31:10</td>\n",
       "      <td>0</td>\n",
       "      <td>Work</td>\n",
       "      <td>QS68UD8 X 0 X 294</td>\n",
       "    </tr>\n",
       "    <tr>\n",
       "      <th>2</th>\n",
       "      <td>163241.0</td>\n",
       "      <td>MB7VY5F</td>\n",
       "      <td>2.0</td>\n",
       "      <td>14.4</td>\n",
       "      <td>1</td>\n",
       "      <td>NaN</td>\n",
       "      <td>0.0</td>\n",
       "      <td>NaN</td>\n",
       "      <td>NaN</td>\n",
       "      <td>No</td>\n",
       "      <td>NaN</td>\n",
       "      <td>0.0</td>\n",
       "      <td>0.0</td>\n",
       "      <td>NaN</td>\n",
       "      <td>NaN</td>\n",
       "      <td>NaN</td>\n",
       "      <td>NaN</td>\n",
       "      <td>NaN</td>\n",
       "      <td>NaN</td>\n",
       "      <td>NaN</td>\n",
       "      <td>2019-07-31 05:30:00</td>\n",
       "      <td>83</td>\n",
       "      <td>2019-08-01 05:31:33</td>\n",
       "      <td>0</td>\n",
       "      <td>NaN</td>\n",
       "      <td>MB7VY5F X 0 X 83</td>\n",
       "    </tr>\n",
       "    <tr>\n",
       "      <th>3</th>\n",
       "      <td>163244.0</td>\n",
       "      <td>KDJ951Y</td>\n",
       "      <td>1.0</td>\n",
       "      <td>7.1</td>\n",
       "      <td>1</td>\n",
       "      <td>NaN</td>\n",
       "      <td>0.0</td>\n",
       "      <td>NaN</td>\n",
       "      <td>NaN</td>\n",
       "      <td>No</td>\n",
       "      <td>NaN</td>\n",
       "      <td>0.0</td>\n",
       "      <td>0.0</td>\n",
       "      <td>NaN</td>\n",
       "      <td>2019-08-01 04:03:00</td>\n",
       "      <td>NaN</td>\n",
       "      <td>NaN</td>\n",
       "      <td>NaN</td>\n",
       "      <td>NaN</td>\n",
       "      <td>NaN</td>\n",
       "      <td>2019-07-31 05:30:00</td>\n",
       "      <td>90</td>\n",
       "      <td>2019-08-01 05:34:54</td>\n",
       "      <td>0</td>\n",
       "      <td>Home</td>\n",
       "      <td>KDJ951Y X 0 X 90</td>\n",
       "    </tr>\n",
       "    <tr>\n",
       "      <th>4</th>\n",
       "      <td>163245.0</td>\n",
       "      <td>BAL0RVT</td>\n",
       "      <td>4.0</td>\n",
       "      <td>27.2</td>\n",
       "      <td>1</td>\n",
       "      <td>NaN</td>\n",
       "      <td>0.0</td>\n",
       "      <td>NaN</td>\n",
       "      <td>NaN</td>\n",
       "      <td>No</td>\n",
       "      <td>NaN</td>\n",
       "      <td>0.0</td>\n",
       "      <td>0.0</td>\n",
       "      <td>NaN</td>\n",
       "      <td>NaN</td>\n",
       "      <td>NaN</td>\n",
       "      <td>NaN</td>\n",
       "      <td>NaN</td>\n",
       "      <td>NaN</td>\n",
       "      <td>NaN</td>\n",
       "      <td>2019-07-31 05:30:00</td>\n",
       "      <td>83</td>\n",
       "      <td>2019-08-01 05:35:51</td>\n",
       "      <td>0</td>\n",
       "      <td>Work</td>\n",
       "      <td>BAL0RVT X 0 X 83</td>\n",
       "    </tr>\n",
       "  </tbody>\n",
       "</table>\n",
       "</div>"
      ],
      "text/plain": [
       "   akeed_order_id customer_id  item_count  grand_total  payment_mode  \\\n",
       "0        163238.0     92PEE24         1.0          7.6             2   \n",
       "1        163240.0     QS68UD8         1.0          8.7             1   \n",
       "2        163241.0     MB7VY5F         2.0         14.4             1   \n",
       "3        163244.0     KDJ951Y         1.0          7.1             1   \n",
       "4        163245.0     BAL0RVT         4.0         27.2             1   \n",
       "\n",
       "  promo_code  vendor_discount_amount  promo_code_discount_percentage  \\\n",
       "0        NaN                     0.0                             NaN   \n",
       "1        NaN                     0.0                             NaN   \n",
       "2        NaN                     0.0                             NaN   \n",
       "3        NaN                     0.0                             NaN   \n",
       "4        NaN                     0.0                             NaN   \n",
       "\n",
       "  is_favorite is_rated  vendor_rating  driver_rating  deliverydistance  \\\n",
       "0         NaN       No            NaN            0.0               0.0   \n",
       "1         NaN       No            NaN            0.0               0.0   \n",
       "2         NaN       No            NaN            0.0               0.0   \n",
       "3         NaN       No            NaN            0.0               0.0   \n",
       "4         NaN       No            NaN            0.0               0.0   \n",
       "\n",
       "   preparationtime        delivery_time order_accepted_time  \\\n",
       "0              NaN                  NaN                 NaN   \n",
       "1              NaN                  NaN                 NaN   \n",
       "2              NaN                  NaN                 NaN   \n",
       "3              NaN  2019-08-01 04:03:00                 NaN   \n",
       "4              NaN                  NaN                 NaN   \n",
       "\n",
       "  driver_accepted_time ready_for_pickup_time picked_up_time delivered_time  \\\n",
       "0                  NaN                   NaN            NaN            NaN   \n",
       "1                  NaN                   NaN            NaN            NaN   \n",
       "2                  NaN                   NaN            NaN            NaN   \n",
       "3                  NaN                   NaN            NaN            NaN   \n",
       "4                  NaN                   NaN            NaN            NaN   \n",
       "\n",
       "         delivery_date  vendor_id           created_at  LOCATION_NUMBER  \\\n",
       "0  2019-07-31 05:30:00        105  2019-08-01 05:30:16                0   \n",
       "1  2019-07-31 05:30:00        294  2019-08-01 05:31:10                0   \n",
       "2  2019-07-31 05:30:00         83  2019-08-01 05:31:33                0   \n",
       "3  2019-07-31 05:30:00         90  2019-08-01 05:34:54                0   \n",
       "4  2019-07-31 05:30:00         83  2019-08-01 05:35:51                0   \n",
       "\n",
       "  LOCATION_TYPE CID X LOC_NUM X VENDOR  \n",
       "0           NaN      92PEE24 X 0 X 105  \n",
       "1          Work      QS68UD8 X 0 X 294  \n",
       "2           NaN       MB7VY5F X 0 X 83  \n",
       "3          Home       KDJ951Y X 0 X 90  \n",
       "4          Work       BAL0RVT X 0 X 83  "
      ]
     },
     "execution_count": 5,
     "metadata": {},
     "output_type": "execute_result"
    }
   ],
   "source": [
    "df_orders.head()"
   ]
  },
  {
   "cell_type": "code",
   "execution_count": 6,
   "metadata": {},
   "outputs": [
    {
     "name": "stdout",
     "output_type": "stream",
     "text": [
      "<class 'pandas.core.frame.DataFrame'>\n",
      "RangeIndex: 135303 entries, 0 to 135302\n",
      "Data columns (total 26 columns):\n",
      " #   Column                          Non-Null Count   Dtype  \n",
      "---  ------                          --------------   -----  \n",
      " 0   akeed_order_id                  135233 non-null  float64\n",
      " 1   customer_id                     135303 non-null  object \n",
      " 2   item_count                      128378 non-null  float64\n",
      " 3   grand_total                     135303 non-null  float64\n",
      " 4   payment_mode                    135303 non-null  int64  \n",
      " 5   promo_code                      4305 non-null    object \n",
      " 6   vendor_discount_amount          135303 non-null  float64\n",
      " 7   promo_code_discount_percentage  65880 non-null   float64\n",
      " 8   is_favorite                     100108 non-null  object \n",
      " 9   is_rated                        135303 non-null  object \n",
      " 10  vendor_rating                   45220 non-null   float64\n",
      " 11  driver_rating                   135303 non-null  float64\n",
      " 12  deliverydistance                135303 non-null  float64\n",
      " 13  preparationtime                 79743 non-null   float64\n",
      " 14  delivery_time                   5123 non-null    object \n",
      " 15  order_accepted_time             86955 non-null   object \n",
      " 16  driver_accepted_time            46458 non-null   object \n",
      " 17  ready_for_pickup_time           84249 non-null   object \n",
      " 18  picked_up_time                  83865 non-null   object \n",
      " 19  delivered_time                  85741 non-null   object \n",
      " 20  delivery_date                   35544 non-null   object \n",
      " 21  vendor_id                       135303 non-null  int64  \n",
      " 22  created_at                      135303 non-null  object \n",
      " 23  LOCATION_NUMBER                 135303 non-null  int64  \n",
      " 24  LOCATION_TYPE                   86410 non-null   object \n",
      " 25  CID X LOC_NUM X VENDOR          135303 non-null  object \n",
      "dtypes: float64(9), int64(3), object(14)\n",
      "memory usage: 26.8+ MB\n"
     ]
    }
   ],
   "source": [
    "df_orders.info()"
   ]
  },
  {
   "cell_type": "code",
   "execution_count": 7,
   "metadata": {},
   "outputs": [
    {
     "data": {
      "text/plain": [
       "delivery_time            object\n",
       "order_accepted_time      object\n",
       "driver_accepted_time     object\n",
       "ready_for_pickup_time    object\n",
       "picked_up_time           object\n",
       "delivered_time           object\n",
       "delivery_date            object\n",
       "vendor_id                 int64\n",
       "created_at               object\n",
       "LOCATION_NUMBER           int64\n",
       "LOCATION_TYPE            object\n",
       "dtype: object"
      ]
     },
     "execution_count": 7,
     "metadata": {},
     "output_type": "execute_result"
    }
   ],
   "source": [
    "# it appeares the 15,16, 18, 19 and 20 columns have mixed types. They must be date objects and nan values\n",
    "df_orders.iloc[:,14:25].dtypes"
   ]
  },
  {
   "cell_type": "code",
   "execution_count": 8,
   "metadata": {},
   "outputs": [
    {
     "data": {
      "text/html": [
       "<div>\n",
       "<style scoped>\n",
       "    .dataframe tbody tr th:only-of-type {\n",
       "        vertical-align: middle;\n",
       "    }\n",
       "\n",
       "    .dataframe tbody tr th {\n",
       "        vertical-align: top;\n",
       "    }\n",
       "\n",
       "    .dataframe thead th {\n",
       "        text-align: right;\n",
       "    }\n",
       "</style>\n",
       "<table border=\"1\" class=\"dataframe\">\n",
       "  <thead>\n",
       "    <tr style=\"text-align: right;\">\n",
       "      <th></th>\n",
       "      <th>delivery_time</th>\n",
       "      <th>order_accepted_time</th>\n",
       "      <th>driver_accepted_time</th>\n",
       "      <th>ready_for_pickup_time</th>\n",
       "      <th>picked_up_time</th>\n",
       "      <th>delivered_time</th>\n",
       "      <th>delivery_date</th>\n",
       "    </tr>\n",
       "  </thead>\n",
       "  <tbody>\n",
       "    <tr>\n",
       "      <th>0</th>\n",
       "      <td>NaN</td>\n",
       "      <td>NaN</td>\n",
       "      <td>NaN</td>\n",
       "      <td>NaN</td>\n",
       "      <td>NaN</td>\n",
       "      <td>NaN</td>\n",
       "      <td>2019-07-31 05:30:00</td>\n",
       "    </tr>\n",
       "    <tr>\n",
       "      <th>1</th>\n",
       "      <td>NaN</td>\n",
       "      <td>NaN</td>\n",
       "      <td>NaN</td>\n",
       "      <td>NaN</td>\n",
       "      <td>NaN</td>\n",
       "      <td>NaN</td>\n",
       "      <td>2019-07-31 05:30:00</td>\n",
       "    </tr>\n",
       "    <tr>\n",
       "      <th>2</th>\n",
       "      <td>NaN</td>\n",
       "      <td>NaN</td>\n",
       "      <td>NaN</td>\n",
       "      <td>NaN</td>\n",
       "      <td>NaN</td>\n",
       "      <td>NaN</td>\n",
       "      <td>2019-07-31 05:30:00</td>\n",
       "    </tr>\n",
       "    <tr>\n",
       "      <th>3</th>\n",
       "      <td>2019-08-01 04:03:00</td>\n",
       "      <td>NaN</td>\n",
       "      <td>NaN</td>\n",
       "      <td>NaN</td>\n",
       "      <td>NaN</td>\n",
       "      <td>NaN</td>\n",
       "      <td>2019-07-31 05:30:00</td>\n",
       "    </tr>\n",
       "    <tr>\n",
       "      <th>4</th>\n",
       "      <td>NaN</td>\n",
       "      <td>NaN</td>\n",
       "      <td>NaN</td>\n",
       "      <td>NaN</td>\n",
       "      <td>NaN</td>\n",
       "      <td>NaN</td>\n",
       "      <td>2019-07-31 05:30:00</td>\n",
       "    </tr>\n",
       "    <tr>\n",
       "      <th>...</th>\n",
       "      <td>...</td>\n",
       "      <td>...</td>\n",
       "      <td>...</td>\n",
       "      <td>...</td>\n",
       "      <td>...</td>\n",
       "      <td>...</td>\n",
       "      <td>...</td>\n",
       "    </tr>\n",
       "    <tr>\n",
       "      <th>135298</th>\n",
       "      <td>NaN</td>\n",
       "      <td>2020-02-29 23:48:47</td>\n",
       "      <td>2020-02-29 23:59:21</td>\n",
       "      <td>2020-03-01 00:02:10</td>\n",
       "      <td>2020-03-01 00:22:53</td>\n",
       "      <td>2020-03-01 00:29:42</td>\n",
       "      <td>NaN</td>\n",
       "    </tr>\n",
       "    <tr>\n",
       "      <th>135299</th>\n",
       "      <td>NaN</td>\n",
       "      <td>2020-02-29 23:49:50</td>\n",
       "      <td>2020-03-01 00:19:46</td>\n",
       "      <td>2020-03-01 00:20:05</td>\n",
       "      <td>2020-03-01 00:27:50</td>\n",
       "      <td>2020-03-01 01:03:14</td>\n",
       "      <td>NaN</td>\n",
       "    </tr>\n",
       "    <tr>\n",
       "      <th>135300</th>\n",
       "      <td>NaN</td>\n",
       "      <td>2020-02-29 23:49:16</td>\n",
       "      <td>2020-03-01 00:04:28</td>\n",
       "      <td>2020-03-01 00:10:34</td>\n",
       "      <td>2020-03-01 00:14:43</td>\n",
       "      <td>2020-03-01 00:36:37</td>\n",
       "      <td>NaN</td>\n",
       "    </tr>\n",
       "    <tr>\n",
       "      <th>135301</th>\n",
       "      <td>NaN</td>\n",
       "      <td>2020-02-29 23:54:38</td>\n",
       "      <td>2020-03-01 00:06:14</td>\n",
       "      <td>2020-03-01 00:08:10</td>\n",
       "      <td>2020-03-01 00:22:11</td>\n",
       "      <td>2020-03-01 00:36:52</td>\n",
       "      <td>NaN</td>\n",
       "    </tr>\n",
       "    <tr>\n",
       "      <th>135302</th>\n",
       "      <td>NaN</td>\n",
       "      <td>2020-02-29 23:58:04</td>\n",
       "      <td>2020-03-01 00:07:21</td>\n",
       "      <td>2020-03-01 00:14:12</td>\n",
       "      <td>2020-03-01 00:21:33</td>\n",
       "      <td>2020-03-01 00:28:06</td>\n",
       "      <td>NaN</td>\n",
       "    </tr>\n",
       "  </tbody>\n",
       "</table>\n",
       "<p>135303 rows × 7 columns</p>\n",
       "</div>"
      ],
      "text/plain": [
       "              delivery_time  order_accepted_time driver_accepted_time  \\\n",
       "0                       NaN                  NaN                  NaN   \n",
       "1                       NaN                  NaN                  NaN   \n",
       "2                       NaN                  NaN                  NaN   \n",
       "3       2019-08-01 04:03:00                  NaN                  NaN   \n",
       "4                       NaN                  NaN                  NaN   \n",
       "...                     ...                  ...                  ...   \n",
       "135298                  NaN  2020-02-29 23:48:47  2020-02-29 23:59:21   \n",
       "135299                  NaN  2020-02-29 23:49:50  2020-03-01 00:19:46   \n",
       "135300                  NaN  2020-02-29 23:49:16  2020-03-01 00:04:28   \n",
       "135301                  NaN  2020-02-29 23:54:38  2020-03-01 00:06:14   \n",
       "135302                  NaN  2020-02-29 23:58:04  2020-03-01 00:07:21   \n",
       "\n",
       "       ready_for_pickup_time       picked_up_time       delivered_time  \\\n",
       "0                        NaN                  NaN                  NaN   \n",
       "1                        NaN                  NaN                  NaN   \n",
       "2                        NaN                  NaN                  NaN   \n",
       "3                        NaN                  NaN                  NaN   \n",
       "4                        NaN                  NaN                  NaN   \n",
       "...                      ...                  ...                  ...   \n",
       "135298   2020-03-01 00:02:10  2020-03-01 00:22:53  2020-03-01 00:29:42   \n",
       "135299   2020-03-01 00:20:05  2020-03-01 00:27:50  2020-03-01 01:03:14   \n",
       "135300   2020-03-01 00:10:34  2020-03-01 00:14:43  2020-03-01 00:36:37   \n",
       "135301   2020-03-01 00:08:10  2020-03-01 00:22:11  2020-03-01 00:36:52   \n",
       "135302   2020-03-01 00:14:12  2020-03-01 00:21:33  2020-03-01 00:28:06   \n",
       "\n",
       "              delivery_date  \n",
       "0       2019-07-31 05:30:00  \n",
       "1       2019-07-31 05:30:00  \n",
       "2       2019-07-31 05:30:00  \n",
       "3       2019-07-31 05:30:00  \n",
       "4       2019-07-31 05:30:00  \n",
       "...                     ...  \n",
       "135298                  NaN  \n",
       "135299                  NaN  \n",
       "135300                  NaN  \n",
       "135301                  NaN  \n",
       "135302                  NaN  \n",
       "\n",
       "[135303 rows x 7 columns]"
      ]
     },
     "execution_count": 8,
     "metadata": {},
     "output_type": "execute_result"
    }
   ],
   "source": [
    "df_orders.iloc[:,14:21]"
   ]
  },
  {
   "cell_type": "code",
   "execution_count": 55,
   "metadata": {},
   "outputs": [],
   "source": [
    "# check for null values\n",
    "# the heatmap below shows with yellow the null values"
   ]
  },
  {
   "cell_type": "code",
   "execution_count": 9,
   "metadata": {},
   "outputs": [
    {
     "data": {
      "text/plain": [
       "<AxesSubplot:>"
      ]
     },
     "execution_count": 9,
     "metadata": {},
     "output_type": "execute_result"
    },
    {
     "data": {
      "image/png": "[encoded data removed]",
      "text/plain": [
       "<Figure size 864x648 with 1 Axes>"
      ]
     },
     "metadata": {
      "needs_background": "light"
     },
     "output_type": "display_data"
    }
   ],
   "source": [
    "ig, ax = plt.subplots(figsize=(12,9))\n",
    "sns.heatmap(df_orders.isnull(),yticklabels=False,cbar=False,cmap='viridis')"
   ]
  },
  {
   "cell_type": "code",
   "execution_count": 31,
   "metadata": {},
   "outputs": [
    {
     "data": {
      "text/plain": [
       "70"
      ]
     },
     "execution_count": 31,
     "metadata": {},
     "output_type": "execute_result"
    }
   ],
   "source": [
    "# visual check sometimes isnt that reliable, thus we check using the is_null()\n",
    "# we recheck for akeed_order_id since we will use it as primary key, so we should not have null values\n",
    "df_orders.akeed_order_id.isnull().sum()"
   ]
  },
  {
   "cell_type": "code",
   "execution_count": 32,
   "metadata": {},
   "outputs": [],
   "source": [
    "# it appears we have 70 null values\n",
    "# lets check dublicates as well"
   ]
  },
  {
   "cell_type": "code",
   "execution_count": 65,
   "metadata": {},
   "outputs": [
    {
     "data": {
      "text/plain": [
       "12"
      ]
     },
     "execution_count": 65,
     "metadata": {},
     "output_type": "execute_result"
    }
   ],
   "source": [
    "len(df_orders.akeed_order_id.value_counts()[df_orders.akeed_order_id.value_counts() > 1])\n",
    "# there are 12 order ids who have at least 2 or more appearances "
   ]
  },
  {
   "cell_type": "code",
   "execution_count": 67,
   "metadata": {},
   "outputs": [
    {
     "data": {
      "text/plain": [
       "81"
      ]
     },
     "execution_count": 67,
     "metadata": {},
     "output_type": "execute_result"
    }
   ],
   "source": [
    "len(df_orders.akeed_order_id[df_orders.akeed_order_id.duplicated()])\n",
    "# in total 81 rows have dubplicated order_id (note that this counts the NaN values as well)"
   ]
  },
  {
   "cell_type": "code",
   "execution_count": 68,
   "metadata": {},
   "outputs": [
    {
     "data": {
      "text/plain": [
       "12"
      ]
     },
     "execution_count": 68,
     "metadata": {},
     "output_type": "execute_result"
    }
   ],
   "source": [
    "len(df_orders.akeed_order_id.dropna()[df_orders.akeed_order_id.duplicated()]) # use dropna() to exclude dublivated in () values"
   ]
  },
  {
   "cell_type": "markdown",
   "metadata": {},
   "source": [
    "#### customers"
   ]
  },
  {
   "cell_type": "code",
   "execution_count": 40,
   "metadata": {},
   "outputs": [],
   "source": [
    "df_customers =pd.read_csv('data/train_customers.csv')"
   ]
  },
  {
   "cell_type": "code",
   "execution_count": 16,
   "metadata": {},
   "outputs": [
    {
     "name": "stdout",
     "output_type": "stream",
     "text": [
      "<class 'pandas.core.frame.DataFrame'>\n",
      "RangeIndex: 34674 entries, 0 to 34673\n",
      "Data columns (total 8 columns):\n",
      " #   Column             Non-Null Count  Dtype  \n",
      "---  ------             --------------  -----  \n",
      " 0   akeed_customer_id  34674 non-null  object \n",
      " 1   gender             22520 non-null  object \n",
      " 2   dob                3046 non-null   float64\n",
      " 3   status             34674 non-null  int64  \n",
      " 4   verified           34674 non-null  int64  \n",
      " 5   language           21099 non-null  object \n",
      " 6   created_at         34674 non-null  object \n",
      " 7   updated_at         34674 non-null  object \n",
      "dtypes: float64(1), int64(2), object(5)\n",
      "memory usage: 2.1+ MB\n"
     ]
    }
   ],
   "source": [
    "df_customers.info()"
   ]
  },
  {
   "cell_type": "code",
   "execution_count": 17,
   "metadata": {},
   "outputs": [
    {
     "data": {
      "text/html": [
       "<div>\n",
       "<style scoped>\n",
       "    .dataframe tbody tr th:only-of-type {\n",
       "        vertical-align: middle;\n",
       "    }\n",
       "\n",
       "    .dataframe tbody tr th {\n",
       "        vertical-align: top;\n",
       "    }\n",
       "\n",
       "    .dataframe thead th {\n",
       "        text-align: right;\n",
       "    }\n",
       "</style>\n",
       "<table border=\"1\" class=\"dataframe\">\n",
       "  <thead>\n",
       "    <tr style=\"text-align: right;\">\n",
       "      <th></th>\n",
       "      <th>akeed_customer_id</th>\n",
       "      <th>gender</th>\n",
       "      <th>dob</th>\n",
       "      <th>status</th>\n",
       "      <th>verified</th>\n",
       "      <th>language</th>\n",
       "      <th>created_at</th>\n",
       "      <th>updated_at</th>\n",
       "    </tr>\n",
       "  </thead>\n",
       "  <tbody>\n",
       "    <tr>\n",
       "      <th>0</th>\n",
       "      <td>TCHWPBT</td>\n",
       "      <td>Male</td>\n",
       "      <td>NaN</td>\n",
       "      <td>1</td>\n",
       "      <td>1</td>\n",
       "      <td>EN</td>\n",
       "      <td>2018-02-07 19:16:23</td>\n",
       "      <td>2018-02-07 19:16:23</td>\n",
       "    </tr>\n",
       "    <tr>\n",
       "      <th>1</th>\n",
       "      <td>ZGFSYCZ</td>\n",
       "      <td>Male</td>\n",
       "      <td>NaN</td>\n",
       "      <td>1</td>\n",
       "      <td>1</td>\n",
       "      <td>EN</td>\n",
       "      <td>2018-02-09 12:04:42</td>\n",
       "      <td>2018-02-09 12:04:41</td>\n",
       "    </tr>\n",
       "    <tr>\n",
       "      <th>2</th>\n",
       "      <td>S2ALZFL</td>\n",
       "      <td>Male</td>\n",
       "      <td>NaN</td>\n",
       "      <td>0</td>\n",
       "      <td>1</td>\n",
       "      <td>EN</td>\n",
       "      <td>2018-03-14 18:31:43</td>\n",
       "      <td>2018-03-14 18:31:42</td>\n",
       "    </tr>\n",
       "    <tr>\n",
       "      <th>3</th>\n",
       "      <td>952DBJQ</td>\n",
       "      <td>Male</td>\n",
       "      <td>NaN</td>\n",
       "      <td>1</td>\n",
       "      <td>1</td>\n",
       "      <td>EN</td>\n",
       "      <td>2018-03-15 19:47:07</td>\n",
       "      <td>2018-03-15 19:47:07</td>\n",
       "    </tr>\n",
       "    <tr>\n",
       "      <th>4</th>\n",
       "      <td>1IX6FXS</td>\n",
       "      <td>Male</td>\n",
       "      <td>NaN</td>\n",
       "      <td>1</td>\n",
       "      <td>1</td>\n",
       "      <td>EN</td>\n",
       "      <td>2018-03-15 19:57:01</td>\n",
       "      <td>2018-03-15 19:57:01</td>\n",
       "    </tr>\n",
       "  </tbody>\n",
       "</table>\n",
       "</div>"
      ],
      "text/plain": [
       "  akeed_customer_id gender  dob  status  verified language  \\\n",
       "0           TCHWPBT   Male  NaN       1         1       EN   \n",
       "1           ZGFSYCZ   Male  NaN       1         1       EN   \n",
       "2           S2ALZFL   Male  NaN       0         1       EN   \n",
       "3           952DBJQ   Male  NaN       1         1       EN   \n",
       "4           1IX6FXS   Male  NaN       1         1       EN   \n",
       "\n",
       "            created_at           updated_at  \n",
       "0  2018-02-07 19:16:23  2018-02-07 19:16:23  \n",
       "1  2018-02-09 12:04:42  2018-02-09 12:04:41  \n",
       "2  2018-03-14 18:31:43  2018-03-14 18:31:42  \n",
       "3  2018-03-15 19:47:07  2018-03-15 19:47:07  \n",
       "4  2018-03-15 19:57:01  2018-03-15 19:57:01  "
      ]
     },
     "execution_count": 17,
     "metadata": {},
     "output_type": "execute_result"
    }
   ],
   "source": [
    "df_customers.head()"
   ]
  },
  {
   "cell_type": "code",
   "execution_count": 18,
   "metadata": {},
   "outputs": [
    {
     "data": {
      "text/plain": [
       "<AxesSubplot:>"
      ]
     },
     "execution_count": 18,
     "metadata": {},
     "output_type": "execute_result"
    },
    {
     "data": {
      "image/png": "[encoded data removed]",
      "text/plain": [
       "<Figure size 864x648 with 1 Axes>"
      ]
     },
     "metadata": {
      "needs_background": "light"
     },
     "output_type": "display_data"
    }
   ],
   "source": [
    "ig, ax = plt.subplots(figsize=(12,9))\n",
    "sns.heatmap(df_customers.isnull(),yticklabels=False,cbar=False,cmap='viridis')"
   ]
  },
  {
   "cell_type": "code",
   "execution_count": 47,
   "metadata": {},
   "outputs": [
    {
     "data": {
      "text/plain": [
       "0"
      ]
     },
     "execution_count": 47,
     "metadata": {},
     "output_type": "execute_result"
    }
   ],
   "source": [
    "# visual check sometimes isnt that reliable, thus we check using the is_null()\n",
    "# we recheck for akeed_customer_id since we will use it as primary key, so we should not have null values\n",
    "df_customers.akeed_customer_id.isnull().sum()"
   ]
  },
  {
   "cell_type": "code",
   "execution_count": 48,
   "metadata": {},
   "outputs": [],
   "source": [
    "# there are no null values,\n",
    "# lets check for any dubplicates"
   ]
  },
  {
   "cell_type": "code",
   "execution_count": 69,
   "metadata": {},
   "outputs": [
    {
     "data": {
      "text/plain": [
       "151"
      ]
     },
     "execution_count": 69,
     "metadata": {},
     "output_type": "execute_result"
    }
   ],
   "source": [
    "len(df_customers.akeed_customer_id.dropna()[df_customers.akeed_customer_id.duplicated()])\n",
    "# there are 151 rows who have dubplicated customer_id"
   ]
  },
  {
   "cell_type": "code",
   "execution_count": 53,
   "metadata": {},
   "outputs": [
    {
     "data": {
      "text/plain": [
       "56"
      ]
     },
     "execution_count": 53,
     "metadata": {},
     "output_type": "execute_result"
    }
   ],
   "source": [
    "len(df_customers.akeed_customer_id.value_counts()[df_customers.akeed_customer_id.value_counts() > 1])\n",
    "# there 56 akeed_customer_id values who repeat theirself at least two times"
   ]
  },
  {
   "cell_type": "code",
   "execution_count": 93,
   "metadata": {},
   "outputs": [
    {
     "data": {
      "text/plain": [
       "array([1, 0], dtype=int64)"
      ]
     },
     "execution_count": 93,
     "metadata": {},
     "output_type": "execute_result"
    }
   ],
   "source": [
    "# checking the unique values of status and verified\n",
    "df_customers.status.unique()"
   ]
  },
  {
   "cell_type": "code",
   "execution_count": 92,
   "metadata": {},
   "outputs": [
    {
     "data": {
      "text/plain": [
       "array([1, 0], dtype=int64)"
      ]
     },
     "execution_count": 92,
     "metadata": {},
     "output_type": "execute_result"
    }
   ],
   "source": [
    "df_customers.verified.unique()"
   ]
  },
  {
   "cell_type": "markdown",
   "metadata": {},
   "source": [
    "#### locations"
   ]
  },
  {
   "cell_type": "code",
   "execution_count": 23,
   "metadata": {},
   "outputs": [
    {
     "data": {
      "text/plain": [
       "Index(['customer_id', 'location_number', 'location_type', 'latitude',\n",
       "       'longitude'],\n",
       "      dtype='object')"
      ]
     },
     "execution_count": 23,
     "metadata": {},
     "output_type": "execute_result"
    }
   ],
   "source": [
    "df_locations = pd.read_csv('data/train_locations.csv')\n",
    "df_locations.columns"
   ]
  },
  {
   "cell_type": "code",
   "execution_count": 21,
   "metadata": {},
   "outputs": [
    {
     "data": {
      "text/html": [
       "<div>\n",
       "<style scoped>\n",
       "    .dataframe tbody tr th:only-of-type {\n",
       "        vertical-align: middle;\n",
       "    }\n",
       "\n",
       "    .dataframe tbody tr th {\n",
       "        vertical-align: top;\n",
       "    }\n",
       "\n",
       "    .dataframe thead th {\n",
       "        text-align: right;\n",
       "    }\n",
       "</style>\n",
       "<table border=\"1\" class=\"dataframe\">\n",
       "  <thead>\n",
       "    <tr style=\"text-align: right;\">\n",
       "      <th></th>\n",
       "      <th>customer_id</th>\n",
       "      <th>location_number</th>\n",
       "      <th>location_type</th>\n",
       "      <th>latitude</th>\n",
       "      <th>longitude</th>\n",
       "    </tr>\n",
       "  </thead>\n",
       "  <tbody>\n",
       "    <tr>\n",
       "      <th>0</th>\n",
       "      <td>02SFNJH</td>\n",
       "      <td>0</td>\n",
       "      <td>NaN</td>\n",
       "      <td>1.682392</td>\n",
       "      <td>-78.789737</td>\n",
       "    </tr>\n",
       "    <tr>\n",
       "      <th>1</th>\n",
       "      <td>02SFNJH</td>\n",
       "      <td>1</td>\n",
       "      <td>NaN</td>\n",
       "      <td>1.679137</td>\n",
       "      <td>0.766823</td>\n",
       "    </tr>\n",
       "    <tr>\n",
       "      <th>2</th>\n",
       "      <td>02SFNJH</td>\n",
       "      <td>2</td>\n",
       "      <td>NaN</td>\n",
       "      <td>-0.498648</td>\n",
       "      <td>0.661241</td>\n",
       "    </tr>\n",
       "    <tr>\n",
       "      <th>3</th>\n",
       "      <td>RU43CXC</td>\n",
       "      <td>0</td>\n",
       "      <td>Home</td>\n",
       "      <td>0.100853</td>\n",
       "      <td>0.438165</td>\n",
       "    </tr>\n",
       "    <tr>\n",
       "      <th>4</th>\n",
       "      <td>BDFBPRD</td>\n",
       "      <td>0</td>\n",
       "      <td>NaN</td>\n",
       "      <td>2.523125</td>\n",
       "      <td>0.733464</td>\n",
       "    </tr>\n",
       "  </tbody>\n",
       "</table>\n",
       "</div>"
      ],
      "text/plain": [
       "  customer_id  location_number location_type  latitude  longitude\n",
       "0     02SFNJH                0           NaN  1.682392 -78.789737\n",
       "1     02SFNJH                1           NaN  1.679137   0.766823\n",
       "2     02SFNJH                2           NaN -0.498648   0.661241\n",
       "3     RU43CXC                0          Home  0.100853   0.438165\n",
       "4     BDFBPRD                0           NaN  2.523125   0.733464"
      ]
     },
     "execution_count": 21,
     "metadata": {},
     "output_type": "execute_result"
    }
   ],
   "source": [
    "df_locations.head()"
   ]
  },
  {
   "cell_type": "code",
   "execution_count": 22,
   "metadata": {},
   "outputs": [
    {
     "data": {
      "text/plain": [
       "array([ 0,  1,  2,  3,  4,  5,  6,  7,  8,  9, 10, 11, 12, 13, 14, 15, 16,\n",
       "       17, 18, 19, 20, 21, 22, 23, 24, 25, 26, 27, 28, 29], dtype=int64)"
      ]
     },
     "execution_count": 22,
     "metadata": {},
     "output_type": "execute_result"
    }
   ],
   "source": [
    "df_locations['location_number'].unique()"
   ]
  },
  {
   "cell_type": "code",
   "execution_count": 23,
   "metadata": {},
   "outputs": [
    {
     "data": {
      "text/plain": [
       "array([nan, 'Home', 'Work', 'Other'], dtype=object)"
      ]
     },
     "execution_count": 23,
     "metadata": {},
     "output_type": "execute_result"
    }
   ],
   "source": [
    "df_locations['location_type'].unique()"
   ]
  },
  {
   "cell_type": "code",
   "execution_count": 25,
   "metadata": {},
   "outputs": [
    {
     "data": {
      "text/plain": [
       "<AxesSubplot:>"
      ]
     },
     "execution_count": 25,
     "metadata": {},
     "output_type": "execute_result"
    },
    {
     "data": {
      "image/png": "[encoded data removed]",
      "text/plain": [
       "<Figure size 864x648 with 1 Axes>"
      ]
     },
     "metadata": {
      "needs_background": "light"
     },
     "output_type": "display_data"
    }
   ],
   "source": [
    "ig, ax = plt.subplots(figsize=(12,9))\n",
    "sns.heatmap(df_locations.isnull(),yticklabels=False,cbar=False,cmap='viridis')"
   ]
  },
  {
   "cell_type": "code",
   "execution_count": null,
   "metadata": {},
   "outputs": [],
   "source": [
    "# in this case we have too look if the combination of the customer_id and location_number is unique, since we are using those two as compisite primary key"
   ]
  },
  {
   "cell_type": "code",
   "execution_count": 81,
   "metadata": {},
   "outputs": [
    {
     "data": {
      "text/plain": [
       "0"
      ]
     },
     "execution_count": 81,
     "metadata": {},
     "output_type": "execute_result"
    }
   ],
   "source": [
    "len(df_locations[df_locations.duplicated(subset=['customer_id','location_number'])]) \n",
    "# no dubplicate pairs"
   ]
  },
  {
   "cell_type": "markdown",
   "metadata": {},
   "source": [
    "#### Vendors"
   ]
  },
  {
   "cell_type": "code",
   "execution_count": 24,
   "metadata": {},
   "outputs": [
    {
     "name": "stdout",
     "output_type": "stream",
     "text": [
      "<class 'pandas.core.frame.DataFrame'>\n",
      "RangeIndex: 100 entries, 0 to 99\n",
      "Data columns (total 59 columns):\n",
      " #   Column                Non-Null Count  Dtype  \n",
      "---  ------                --------------  -----  \n",
      " 0   id                    100 non-null    int64  \n",
      " 1   authentication_id     100 non-null    float64\n",
      " 2   latitude              100 non-null    float64\n",
      " 3   longitude             100 non-null    float64\n",
      " 4   vendor_category_en    100 non-null    object \n",
      " 5   vendor_category_id    100 non-null    float64\n",
      " 6   delivery_charge       100 non-null    float64\n",
      " 7   serving_distance      100 non-null    float64\n",
      " 8   is_open               100 non-null    float64\n",
      " 9   OpeningTime           91 non-null     object \n",
      " 10  OpeningTime2          91 non-null     object \n",
      " 11  prepration_time       100 non-null    int64  \n",
      " 12  commission            85 non-null     float64\n",
      " 13  is_akeed_delivering   100 non-null    object \n",
      " 14  discount_percentage   100 non-null    float64\n",
      " 15  status                100 non-null    float64\n",
      " 16  verified              100 non-null    int64  \n",
      " 17  rank                  100 non-null    int64  \n",
      " 18  language              85 non-null     object \n",
      " 19  vendor_rating         100 non-null    float64\n",
      " 20  sunday_from_time1     99 non-null     object \n",
      " 21  sunday_to_time1       99 non-null     object \n",
      " 22  sunday_from_time2     42 non-null     object \n",
      " 23  sunday_to_time2       42 non-null     object \n",
      " 24  monday_from_time1     100 non-null    object \n",
      " 25  monday_to_time1       100 non-null    object \n",
      " 26  monday_from_time2     42 non-null     object \n",
      " 27  monday_to_time2       42 non-null     object \n",
      " 28  tuesday_from_time1    99 non-null     object \n",
      " 29  tuesday_to_time1      99 non-null     object \n",
      " 30  tuesday_from_time2    41 non-null     object \n",
      " 31  tuesday_to_time2      41 non-null     object \n",
      " 32  wednesday_from_time1  100 non-null    object \n",
      " 33  wednesday_to_time1    100 non-null    object \n",
      " 34  wednesday_from_time2  42 non-null     object \n",
      " 35  wednesday_to_time2    42 non-null     object \n",
      " 36  thursday_from_time1   99 non-null     object \n",
      " 37  thursday_to_time1     99 non-null     object \n",
      " 38  thursday_from_time2   42 non-null     object \n",
      " 39  thursday_to_time2     42 non-null     object \n",
      " 40  friday_from_time1     96 non-null     object \n",
      " 41  friday_to_time1       96 non-null     object \n",
      " 42  friday_from_time2     45 non-null     object \n",
      " 43  friday_to_time2       45 non-null     object \n",
      " 44  saturday_from_time1   98 non-null     object \n",
      " 45  saturday_to_time1     98 non-null     object \n",
      " 46  saturday_from_time2   42 non-null     object \n",
      " 47  saturday_to_time2     42 non-null     object \n",
      " 48  primary_tags          77 non-null     object \n",
      " 49  open_close_flags      100 non-null    float64\n",
      " 50  vendor_tag            97 non-null     object \n",
      " 51  vendor_tag_name       97 non-null     object \n",
      " 52  one_click_vendor      100 non-null    object \n",
      " 53  country_id            100 non-null    float64\n",
      " 54  city_id               100 non-null    float64\n",
      " 55  created_at            100 non-null    object \n",
      " 56  updated_at            100 non-null    object \n",
      " 57  device_type           100 non-null    int64  \n",
      " 58  display_orders        100 non-null    int64  \n",
      "dtypes: float64(14), int64(6), object(39)\n",
      "memory usage: 46.2+ KB\n"
     ]
    }
   ],
   "source": [
    "df_vendors = pd.read_csv('data/vendors.csv')\n",
    "df_vendors.info()"
   ]
  },
  {
   "cell_type": "code",
   "execution_count": 28,
   "metadata": {},
   "outputs": [
    {
     "data": {
      "text/html": [
       "<div>\n",
       "<style scoped>\n",
       "    .dataframe tbody tr th:only-of-type {\n",
       "        vertical-align: middle;\n",
       "    }\n",
       "\n",
       "    .dataframe tbody tr th {\n",
       "        vertical-align: top;\n",
       "    }\n",
       "\n",
       "    .dataframe thead th {\n",
       "        text-align: right;\n",
       "    }\n",
       "</style>\n",
       "<table border=\"1\" class=\"dataframe\">\n",
       "  <thead>\n",
       "    <tr style=\"text-align: right;\">\n",
       "      <th></th>\n",
       "      <th>id</th>\n",
       "      <th>authentication_id</th>\n",
       "      <th>latitude</th>\n",
       "      <th>longitude</th>\n",
       "      <th>vendor_category_en</th>\n",
       "      <th>vendor_category_id</th>\n",
       "      <th>delivery_charge</th>\n",
       "      <th>serving_distance</th>\n",
       "      <th>is_open</th>\n",
       "      <th>OpeningTime</th>\n",
       "      <th>OpeningTime2</th>\n",
       "      <th>prepration_time</th>\n",
       "      <th>commission</th>\n",
       "      <th>is_akeed_delivering</th>\n",
       "      <th>discount_percentage</th>\n",
       "      <th>status</th>\n",
       "      <th>verified</th>\n",
       "      <th>rank</th>\n",
       "      <th>language</th>\n",
       "      <th>vendor_rating</th>\n",
       "      <th>sunday_from_time1</th>\n",
       "      <th>sunday_to_time1</th>\n",
       "      <th>sunday_from_time2</th>\n",
       "      <th>sunday_to_time2</th>\n",
       "      <th>monday_from_time1</th>\n",
       "      <th>monday_to_time1</th>\n",
       "      <th>monday_from_time2</th>\n",
       "      <th>monday_to_time2</th>\n",
       "      <th>tuesday_from_time1</th>\n",
       "      <th>tuesday_to_time1</th>\n",
       "      <th>tuesday_from_time2</th>\n",
       "      <th>tuesday_to_time2</th>\n",
       "      <th>wednesday_from_time1</th>\n",
       "      <th>wednesday_to_time1</th>\n",
       "      <th>wednesday_from_time2</th>\n",
       "      <th>wednesday_to_time2</th>\n",
       "      <th>thursday_from_time1</th>\n",
       "      <th>thursday_to_time1</th>\n",
       "      <th>thursday_from_time2</th>\n",
       "      <th>thursday_to_time2</th>\n",
       "      <th>friday_from_time1</th>\n",
       "      <th>friday_to_time1</th>\n",
       "      <th>friday_from_time2</th>\n",
       "      <th>friday_to_time2</th>\n",
       "      <th>saturday_from_time1</th>\n",
       "      <th>saturday_to_time1</th>\n",
       "      <th>saturday_from_time2</th>\n",
       "      <th>saturday_to_time2</th>\n",
       "      <th>primary_tags</th>\n",
       "      <th>open_close_flags</th>\n",
       "      <th>vendor_tag</th>\n",
       "      <th>vendor_tag_name</th>\n",
       "      <th>one_click_vendor</th>\n",
       "      <th>country_id</th>\n",
       "      <th>city_id</th>\n",
       "      <th>created_at</th>\n",
       "      <th>updated_at</th>\n",
       "      <th>device_type</th>\n",
       "      <th>display_orders</th>\n",
       "    </tr>\n",
       "  </thead>\n",
       "  <tbody>\n",
       "    <tr>\n",
       "      <th>0</th>\n",
       "      <td>4</td>\n",
       "      <td>118597.0</td>\n",
       "      <td>-0.588596</td>\n",
       "      <td>0.754434</td>\n",
       "      <td>Restaurants</td>\n",
       "      <td>2.0</td>\n",
       "      <td>0.0</td>\n",
       "      <td>6.0</td>\n",
       "      <td>1.0</td>\n",
       "      <td>11:00AM-11:30PM</td>\n",
       "      <td>-</td>\n",
       "      <td>15</td>\n",
       "      <td>0.0</td>\n",
       "      <td>Yes</td>\n",
       "      <td>0.0</td>\n",
       "      <td>1.0</td>\n",
       "      <td>1</td>\n",
       "      <td>11</td>\n",
       "      <td>EN</td>\n",
       "      <td>4.4</td>\n",
       "      <td>00:00:00</td>\n",
       "      <td>00:30:00</td>\n",
       "      <td>08:00:00</td>\n",
       "      <td>23:59:00</td>\n",
       "      <td>00:00:00</td>\n",
       "      <td>00:30:00</td>\n",
       "      <td>08:00:00</td>\n",
       "      <td>23:59:00</td>\n",
       "      <td>00:00:00</td>\n",
       "      <td>00:30:00</td>\n",
       "      <td>08:00:00</td>\n",
       "      <td>23:59:00</td>\n",
       "      <td>00:00:00</td>\n",
       "      <td>00:30:00</td>\n",
       "      <td>08:00:00</td>\n",
       "      <td>23:59:00</td>\n",
       "      <td>00:00:00</td>\n",
       "      <td>00:30:00</td>\n",
       "      <td>08:00:00</td>\n",
       "      <td>23:59:00</td>\n",
       "      <td>00:00:00</td>\n",
       "      <td>00:30:00</td>\n",
       "      <td>10:00:00</td>\n",
       "      <td>23:59:00</td>\n",
       "      <td>00:00:00</td>\n",
       "      <td>00:30:00</td>\n",
       "      <td>10:00:00</td>\n",
       "      <td>23:59:00</td>\n",
       "      <td>{\"primary_tags\":\"4\"}</td>\n",
       "      <td>1.0</td>\n",
       "      <td>2,4,5,8,91,22,12,24,16,23</td>\n",
       "      <td>Arabic,Breakfast,Burgers,Desserts,Free Deliver...</td>\n",
       "      <td>Y</td>\n",
       "      <td>1.0</td>\n",
       "      <td>1.0</td>\n",
       "      <td>2018-01-30 14:42:04</td>\n",
       "      <td>2020-04-07 15:12:43</td>\n",
       "      <td>3</td>\n",
       "      <td>1</td>\n",
       "    </tr>\n",
       "    <tr>\n",
       "      <th>1</th>\n",
       "      <td>13</td>\n",
       "      <td>118608.0</td>\n",
       "      <td>-0.471654</td>\n",
       "      <td>0.744470</td>\n",
       "      <td>Restaurants</td>\n",
       "      <td>2.0</td>\n",
       "      <td>0.7</td>\n",
       "      <td>5.0</td>\n",
       "      <td>1.0</td>\n",
       "      <td>08:30AM-10:30PM</td>\n",
       "      <td>-</td>\n",
       "      <td>14</td>\n",
       "      <td>0.0</td>\n",
       "      <td>Yes</td>\n",
       "      <td>0.0</td>\n",
       "      <td>1.0</td>\n",
       "      <td>1</td>\n",
       "      <td>11</td>\n",
       "      <td>EN</td>\n",
       "      <td>4.7</td>\n",
       "      <td>00:00:00</td>\n",
       "      <td>01:30:00</td>\n",
       "      <td>08:00:00</td>\n",
       "      <td>23:59:00</td>\n",
       "      <td>00:00:00</td>\n",
       "      <td>01:30:00</td>\n",
       "      <td>08:00:00</td>\n",
       "      <td>23:59:00</td>\n",
       "      <td>00:00:00</td>\n",
       "      <td>01:30:00</td>\n",
       "      <td>08:00:00</td>\n",
       "      <td>23:59:00</td>\n",
       "      <td>00:00:00</td>\n",
       "      <td>01:30:00</td>\n",
       "      <td>08:00:00</td>\n",
       "      <td>19:30:00</td>\n",
       "      <td>00:00:00</td>\n",
       "      <td>01:30:00</td>\n",
       "      <td>08:00:00</td>\n",
       "      <td>19:30:00</td>\n",
       "      <td>00:00:00</td>\n",
       "      <td>01:30:00</td>\n",
       "      <td>08:00:00</td>\n",
       "      <td>23:59:00</td>\n",
       "      <td>00:00:00</td>\n",
       "      <td>01:30:00</td>\n",
       "      <td>08:00:00</td>\n",
       "      <td>23:59:00</td>\n",
       "      <td>{\"primary_tags\":\"7\"}</td>\n",
       "      <td>1.0</td>\n",
       "      <td>4,41,51,34,27,15,24,16,28</td>\n",
       "      <td>Breakfast,Cakes,Crepes,Italian,Pasta,Pizzas,Sa...</td>\n",
       "      <td>Y</td>\n",
       "      <td>1.0</td>\n",
       "      <td>1.0</td>\n",
       "      <td>2018-05-03 12:32:06</td>\n",
       "      <td>2020-04-05 20:46:03</td>\n",
       "      <td>3</td>\n",
       "      <td>1</td>\n",
       "    </tr>\n",
       "    <tr>\n",
       "      <th>2</th>\n",
       "      <td>20</td>\n",
       "      <td>118616.0</td>\n",
       "      <td>-0.407527</td>\n",
       "      <td>0.643681</td>\n",
       "      <td>Restaurants</td>\n",
       "      <td>2.0</td>\n",
       "      <td>0.0</td>\n",
       "      <td>8.0</td>\n",
       "      <td>1.0</td>\n",
       "      <td>08:00AM-10:45PM</td>\n",
       "      <td>-</td>\n",
       "      <td>19</td>\n",
       "      <td>0.0</td>\n",
       "      <td>Yes</td>\n",
       "      <td>0.0</td>\n",
       "      <td>1.0</td>\n",
       "      <td>1</td>\n",
       "      <td>1</td>\n",
       "      <td>EN</td>\n",
       "      <td>4.5</td>\n",
       "      <td>08:00:00</td>\n",
       "      <td>22:45:00</td>\n",
       "      <td>NaN</td>\n",
       "      <td>NaN</td>\n",
       "      <td>08:00:00</td>\n",
       "      <td>22:45:00</td>\n",
       "      <td>NaN</td>\n",
       "      <td>NaN</td>\n",
       "      <td>08:00:00</td>\n",
       "      <td>22:45:00</td>\n",
       "      <td>NaN</td>\n",
       "      <td>NaN</td>\n",
       "      <td>08:00:00</td>\n",
       "      <td>22:45:00</td>\n",
       "      <td>NaN</td>\n",
       "      <td>NaN</td>\n",
       "      <td>08:00:00</td>\n",
       "      <td>22:45:00</td>\n",
       "      <td>NaN</td>\n",
       "      <td>NaN</td>\n",
       "      <td>08:00:00</td>\n",
       "      <td>22:45:00</td>\n",
       "      <td>NaN</td>\n",
       "      <td>NaN</td>\n",
       "      <td>08:00:00</td>\n",
       "      <td>22:45:00</td>\n",
       "      <td>NaN</td>\n",
       "      <td>NaN</td>\n",
       "      <td>{\"primary_tags\":\"71\"}</td>\n",
       "      <td>1.0</td>\n",
       "      <td>4,8,91,10</td>\n",
       "      <td>Breakfast,Desserts,Free Delivery,Indian</td>\n",
       "      <td>Y</td>\n",
       "      <td>1.0</td>\n",
       "      <td>1.0</td>\n",
       "      <td>2018-05-04 22:28:22</td>\n",
       "      <td>2020-04-07 16:35:55</td>\n",
       "      <td>3</td>\n",
       "      <td>1</td>\n",
       "    </tr>\n",
       "    <tr>\n",
       "      <th>3</th>\n",
       "      <td>23</td>\n",
       "      <td>118619.0</td>\n",
       "      <td>-0.585385</td>\n",
       "      <td>0.753811</td>\n",
       "      <td>Restaurants</td>\n",
       "      <td>2.0</td>\n",
       "      <td>0.0</td>\n",
       "      <td>5.0</td>\n",
       "      <td>1.0</td>\n",
       "      <td>10:59AM-10:30PM</td>\n",
       "      <td>-</td>\n",
       "      <td>16</td>\n",
       "      <td>0.0</td>\n",
       "      <td>Yes</td>\n",
       "      <td>0.0</td>\n",
       "      <td>1.0</td>\n",
       "      <td>1</td>\n",
       "      <td>11</td>\n",
       "      <td>EN</td>\n",
       "      <td>4.5</td>\n",
       "      <td>09:00:00</td>\n",
       "      <td>23:30:00</td>\n",
       "      <td>NaN</td>\n",
       "      <td>NaN</td>\n",
       "      <td>09:00:00</td>\n",
       "      <td>23:30:00</td>\n",
       "      <td>NaN</td>\n",
       "      <td>NaN</td>\n",
       "      <td>09:00:00</td>\n",
       "      <td>23:30:00</td>\n",
       "      <td>NaN</td>\n",
       "      <td>NaN</td>\n",
       "      <td>09:00:00</td>\n",
       "      <td>23:30:00</td>\n",
       "      <td>NaN</td>\n",
       "      <td>NaN</td>\n",
       "      <td>09:00:00</td>\n",
       "      <td>23:45:00</td>\n",
       "      <td>NaN</td>\n",
       "      <td>NaN</td>\n",
       "      <td>09:00:00</td>\n",
       "      <td>23:45:00</td>\n",
       "      <td>NaN</td>\n",
       "      <td>NaN</td>\n",
       "      <td>09:00:00</td>\n",
       "      <td>23:45:00</td>\n",
       "      <td>NaN</td>\n",
       "      <td>NaN</td>\n",
       "      <td>{\"primary_tags\":\"46\"}</td>\n",
       "      <td>1.0</td>\n",
       "      <td>5,8,30,24</td>\n",
       "      <td>Burgers,Desserts,Fries,Salads</td>\n",
       "      <td>Y</td>\n",
       "      <td>1.0</td>\n",
       "      <td>1.0</td>\n",
       "      <td>2018-05-06 19:20:48</td>\n",
       "      <td>2020-04-02 00:56:17</td>\n",
       "      <td>3</td>\n",
       "      <td>1</td>\n",
       "    </tr>\n",
       "    <tr>\n",
       "      <th>4</th>\n",
       "      <td>28</td>\n",
       "      <td>118624.0</td>\n",
       "      <td>0.480602</td>\n",
       "      <td>0.552850</td>\n",
       "      <td>Restaurants</td>\n",
       "      <td>2.0</td>\n",
       "      <td>0.7</td>\n",
       "      <td>15.0</td>\n",
       "      <td>1.0</td>\n",
       "      <td>11:00AM-11:45PM</td>\n",
       "      <td>-</td>\n",
       "      <td>10</td>\n",
       "      <td>0.0</td>\n",
       "      <td>Yes</td>\n",
       "      <td>0.0</td>\n",
       "      <td>1.0</td>\n",
       "      <td>1</td>\n",
       "      <td>11</td>\n",
       "      <td>EN</td>\n",
       "      <td>4.4</td>\n",
       "      <td>00:01:00</td>\n",
       "      <td>00:30:00</td>\n",
       "      <td>11:00:00</td>\n",
       "      <td>23:59:00</td>\n",
       "      <td>00:01:00</td>\n",
       "      <td>00:30:00</td>\n",
       "      <td>11:00:00</td>\n",
       "      <td>23:59:00</td>\n",
       "      <td>00:01:00</td>\n",
       "      <td>00:30:00</td>\n",
       "      <td>11:00:00</td>\n",
       "      <td>23:59:00</td>\n",
       "      <td>00:01:00</td>\n",
       "      <td>00:30:00</td>\n",
       "      <td>11:00:00</td>\n",
       "      <td>23:59:00</td>\n",
       "      <td>00:01:00</td>\n",
       "      <td>00:30:00</td>\n",
       "      <td>11:00:00</td>\n",
       "      <td>23:59:00</td>\n",
       "      <td>00:01:00</td>\n",
       "      <td>01:30:00</td>\n",
       "      <td>17:45:00</td>\n",
       "      <td>23:59:00</td>\n",
       "      <td>00:01:00</td>\n",
       "      <td>01:30:00</td>\n",
       "      <td>17:45:00</td>\n",
       "      <td>23:59:00</td>\n",
       "      <td>{\"primary_tags\":\"32\"}</td>\n",
       "      <td>1.0</td>\n",
       "      <td>5</td>\n",
       "      <td>Burgers</td>\n",
       "      <td>Y</td>\n",
       "      <td>1.0</td>\n",
       "      <td>1.0</td>\n",
       "      <td>2018-05-17 22:12:38</td>\n",
       "      <td>2020-04-05 15:57:41</td>\n",
       "      <td>3</td>\n",
       "      <td>1</td>\n",
       "    </tr>\n",
       "  </tbody>\n",
       "</table>\n",
       "</div>"
      ],
      "text/plain": [
       "   id  authentication_id  latitude  longitude vendor_category_en  \\\n",
       "0   4           118597.0 -0.588596   0.754434        Restaurants   \n",
       "1  13           118608.0 -0.471654   0.744470        Restaurants   \n",
       "2  20           118616.0 -0.407527   0.643681        Restaurants   \n",
       "3  23           118619.0 -0.585385   0.753811        Restaurants   \n",
       "4  28           118624.0  0.480602   0.552850        Restaurants   \n",
       "\n",
       "   vendor_category_id  delivery_charge  serving_distance  is_open  \\\n",
       "0                 2.0              0.0               6.0      1.0   \n",
       "1                 2.0              0.7               5.0      1.0   \n",
       "2                 2.0              0.0               8.0      1.0   \n",
       "3                 2.0              0.0               5.0      1.0   \n",
       "4                 2.0              0.7              15.0      1.0   \n",
       "\n",
       "       OpeningTime OpeningTime2  prepration_time  commission  \\\n",
       "0  11:00AM-11:30PM            -               15         0.0   \n",
       "1  08:30AM-10:30PM            -               14         0.0   \n",
       "2  08:00AM-10:45PM            -               19         0.0   \n",
       "3  10:59AM-10:30PM            -               16         0.0   \n",
       "4  11:00AM-11:45PM            -               10         0.0   \n",
       "\n",
       "  is_akeed_delivering  discount_percentage  status  verified  rank language  \\\n",
       "0                 Yes                  0.0     1.0         1    11       EN   \n",
       "1                 Yes                  0.0     1.0         1    11       EN   \n",
       "2                 Yes                  0.0     1.0         1     1       EN   \n",
       "3                 Yes                  0.0     1.0         1    11       EN   \n",
       "4                 Yes                  0.0     1.0         1    11       EN   \n",
       "\n",
       "   vendor_rating sunday_from_time1 sunday_to_time1 sunday_from_time2  \\\n",
       "0            4.4          00:00:00        00:30:00          08:00:00   \n",
       "1            4.7          00:00:00        01:30:00          08:00:00   \n",
       "2            4.5          08:00:00        22:45:00               NaN   \n",
       "3            4.5          09:00:00        23:30:00               NaN   \n",
       "4            4.4          00:01:00        00:30:00          11:00:00   \n",
       "\n",
       "  sunday_to_time2 monday_from_time1 monday_to_time1 monday_from_time2  \\\n",
       "0        23:59:00          00:00:00        00:30:00          08:00:00   \n",
       "1        23:59:00          00:00:00        01:30:00          08:00:00   \n",
       "2             NaN          08:00:00        22:45:00               NaN   \n",
       "3             NaN          09:00:00        23:30:00               NaN   \n",
       "4        23:59:00          00:01:00        00:30:00          11:00:00   \n",
       "\n",
       "  monday_to_time2 tuesday_from_time1 tuesday_to_time1 tuesday_from_time2  \\\n",
       "0        23:59:00           00:00:00         00:30:00           08:00:00   \n",
       "1        23:59:00           00:00:00         01:30:00           08:00:00   \n",
       "2             NaN           08:00:00         22:45:00                NaN   \n",
       "3             NaN           09:00:00         23:30:00                NaN   \n",
       "4        23:59:00           00:01:00         00:30:00           11:00:00   \n",
       "\n",
       "  tuesday_to_time2 wednesday_from_time1 wednesday_to_time1  \\\n",
       "0         23:59:00             00:00:00           00:30:00   \n",
       "1         23:59:00             00:00:00           01:30:00   \n",
       "2              NaN             08:00:00           22:45:00   \n",
       "3              NaN             09:00:00           23:30:00   \n",
       "4         23:59:00             00:01:00           00:30:00   \n",
       "\n",
       "  wednesday_from_time2 wednesday_to_time2 thursday_from_time1  \\\n",
       "0             08:00:00           23:59:00            00:00:00   \n",
       "1             08:00:00           19:30:00            00:00:00   \n",
       "2                  NaN                NaN            08:00:00   \n",
       "3                  NaN                NaN            09:00:00   \n",
       "4             11:00:00           23:59:00            00:01:00   \n",
       "\n",
       "  thursday_to_time1 thursday_from_time2 thursday_to_time2 friday_from_time1  \\\n",
       "0          00:30:00            08:00:00          23:59:00          00:00:00   \n",
       "1          01:30:00            08:00:00          19:30:00          00:00:00   \n",
       "2          22:45:00                 NaN               NaN          08:00:00   \n",
       "3          23:45:00                 NaN               NaN          09:00:00   \n",
       "4          00:30:00            11:00:00          23:59:00          00:01:00   \n",
       "\n",
       "  friday_to_time1 friday_from_time2 friday_to_time2 saturday_from_time1  \\\n",
       "0        00:30:00          10:00:00        23:59:00            00:00:00   \n",
       "1        01:30:00          08:00:00        23:59:00            00:00:00   \n",
       "2        22:45:00               NaN             NaN            08:00:00   \n",
       "3        23:45:00               NaN             NaN            09:00:00   \n",
       "4        01:30:00          17:45:00        23:59:00            00:01:00   \n",
       "\n",
       "  saturday_to_time1 saturday_from_time2 saturday_to_time2  \\\n",
       "0          00:30:00            10:00:00          23:59:00   \n",
       "1          01:30:00            08:00:00          23:59:00   \n",
       "2          22:45:00                 NaN               NaN   \n",
       "3          23:45:00                 NaN               NaN   \n",
       "4          01:30:00            17:45:00          23:59:00   \n",
       "\n",
       "            primary_tags  open_close_flags                 vendor_tag  \\\n",
       "0   {\"primary_tags\":\"4\"}               1.0  2,4,5,8,91,22,12,24,16,23   \n",
       "1   {\"primary_tags\":\"7\"}               1.0  4,41,51,34,27,15,24,16,28   \n",
       "2  {\"primary_tags\":\"71\"}               1.0                  4,8,91,10   \n",
       "3  {\"primary_tags\":\"46\"}               1.0                  5,8,30,24   \n",
       "4  {\"primary_tags\":\"32\"}               1.0                          5   \n",
       "\n",
       "                                     vendor_tag_name one_click_vendor  \\\n",
       "0  Arabic,Breakfast,Burgers,Desserts,Free Deliver...                Y   \n",
       "1  Breakfast,Cakes,Crepes,Italian,Pasta,Pizzas,Sa...                Y   \n",
       "2            Breakfast,Desserts,Free Delivery,Indian                Y   \n",
       "3                      Burgers,Desserts,Fries,Salads                Y   \n",
       "4                                            Burgers                Y   \n",
       "\n",
       "   country_id  city_id           created_at           updated_at  device_type  \\\n",
       "0         1.0      1.0  2018-01-30 14:42:04  2020-04-07 15:12:43            3   \n",
       "1         1.0      1.0  2018-05-03 12:32:06  2020-04-05 20:46:03            3   \n",
       "2         1.0      1.0  2018-05-04 22:28:22  2020-04-07 16:35:55            3   \n",
       "3         1.0      1.0  2018-05-06 19:20:48  2020-04-02 00:56:17            3   \n",
       "4         1.0      1.0  2018-05-17 22:12:38  2020-04-05 15:57:41            3   \n",
       "\n",
       "   display_orders  \n",
       "0               1  \n",
       "1               1  \n",
       "2               1  \n",
       "3               1  \n",
       "4               1  "
      ]
     },
     "execution_count": 28,
     "metadata": {},
     "output_type": "execute_result"
    }
   ],
   "source": [
    "df_vendors.head()"
   ]
  },
  {
   "cell_type": "code",
   "execution_count": 29,
   "metadata": {},
   "outputs": [
    {
     "data": {
      "text/plain": [
       "<AxesSubplot:>"
      ]
     },
     "execution_count": 29,
     "metadata": {},
     "output_type": "execute_result"
    },
    {
     "data": {
      "image/png": "[encoded data removed]",
      "text/plain": [
       "<Figure size 1080x648 with 1 Axes>"
      ]
     },
     "metadata": {
      "needs_background": "light"
     },
     "output_type": "display_data"
    }
   ],
   "source": [
    "ig, ax = plt.subplots(figsize=(15,9))\n",
    "sns.heatmap(df_vendors.isnull(),yticklabels=False,cbar=False,cmap='viridis')"
   ]
  },
  {
   "cell_type": "code",
   "execution_count": 85,
   "metadata": {},
   "outputs": [
    {
     "data": {
      "text/plain": [
       "0"
      ]
     },
     "execution_count": 85,
     "metadata": {},
     "output_type": "execute_result"
    }
   ],
   "source": [
    "# visual check sometimes isnt that reliable, thus we check using the is_null()\n",
    "# we recheck for id since we will use it as primary key, so we should not have null values\n",
    "df_vendors.id.isnull().sum()"
   ]
  },
  {
   "cell_type": "code",
   "execution_count": 84,
   "metadata": {},
   "outputs": [
    {
     "data": {
      "text/plain": [
       "0"
      ]
     },
     "execution_count": 84,
     "metadata": {},
     "output_type": "execute_result"
    }
   ],
   "source": [
    "len(df_vendors[df_vendors.id.duplicated()])"
   ]
  },
  {
   "cell_type": "markdown",
   "metadata": {},
   "source": [
    "### DATA CLEANING\n"
   ]
  },
  {
   "cell_type": "markdown",
   "metadata": {},
   "source": [
    "**orders**"
   ]
  },
  {
   "cell_type": "code",
   "execution_count": 10,
   "metadata": {},
   "outputs": [
    {
     "data": {
      "text/plain": [
       "Index(['akeed_order_id', 'customer_id', 'item_count', 'grand_total',\n",
       "       'payment_mode', 'promo_code', 'vendor_discount_amount',\n",
       "       'promo_code_discount_percentage', 'is_favorite', 'is_rated',\n",
       "       'vendor_rating', 'driver_rating', 'deliverydistance', 'preparationtime',\n",
       "       'delivery_time', 'order_accepted_time', 'driver_accepted_time',\n",
       "       'ready_for_pickup_time', 'picked_up_time', 'delivered_time',\n",
       "       'delivery_date', 'vendor_id', 'created_at', 'LOCATION_NUMBER',\n",
       "       'LOCATION_TYPE', 'CID X LOC_NUM X VENDOR'],\n",
       "      dtype='object')"
      ]
     },
     "execution_count": 10,
     "metadata": {},
     "output_type": "execute_result"
    }
   ],
   "source": [
    "df_orders.columns"
   ]
  },
  {
   "cell_type": "code",
   "execution_count": 11,
   "metadata": {},
   "outputs": [],
   "source": [
    "drop_list = ['promo_code', 'promo_code_discount_percentage', 'is_favorite',\n",
    "            'is_rated','vendor_rating','driver_rating','preparationtime',\n",
    "            'delivery_time','order_accepted_time','driver_accepted_time',\n",
    "            'ready_for_pickup_time', 'picked_up_time','delivery_date',\n",
    "             'LOCATION_TYPE','CID X LOC_NUM X VENDOR'\n",
    "            ]\n",
    "\n",
    "for column_name in drop_list:\n",
    "    df_orders.drop(columns = column_name, axis=1, inplace=True)"
   ]
  },
  {
   "cell_type": "code",
   "execution_count": 12,
   "metadata": {},
   "outputs": [
    {
     "data": {
      "text/html": [
       "<div>\n",
       "<style scoped>\n",
       "    .dataframe tbody tr th:only-of-type {\n",
       "        vertical-align: middle;\n",
       "    }\n",
       "\n",
       "    .dataframe tbody tr th {\n",
       "        vertical-align: top;\n",
       "    }\n",
       "\n",
       "    .dataframe thead th {\n",
       "        text-align: right;\n",
       "    }\n",
       "</style>\n",
       "<table border=\"1\" class=\"dataframe\">\n",
       "  <thead>\n",
       "    <tr style=\"text-align: right;\">\n",
       "      <th></th>\n",
       "      <th>akeed_order_id</th>\n",
       "      <th>customer_id</th>\n",
       "      <th>item_count</th>\n",
       "      <th>grand_total</th>\n",
       "      <th>payment_mode</th>\n",
       "      <th>vendor_discount_amount</th>\n",
       "      <th>deliverydistance</th>\n",
       "      <th>delivered_time</th>\n",
       "      <th>vendor_id</th>\n",
       "      <th>created_at</th>\n",
       "      <th>LOCATION_NUMBER</th>\n",
       "    </tr>\n",
       "  </thead>\n",
       "  <tbody>\n",
       "    <tr>\n",
       "      <th>0</th>\n",
       "      <td>163238.0</td>\n",
       "      <td>92PEE24</td>\n",
       "      <td>1.0</td>\n",
       "      <td>7.6</td>\n",
       "      <td>2</td>\n",
       "      <td>0.0</td>\n",
       "      <td>0.0</td>\n",
       "      <td>NaN</td>\n",
       "      <td>105</td>\n",
       "      <td>2019-08-01 05:30:16</td>\n",
       "      <td>0</td>\n",
       "    </tr>\n",
       "    <tr>\n",
       "      <th>1</th>\n",
       "      <td>163240.0</td>\n",
       "      <td>QS68UD8</td>\n",
       "      <td>1.0</td>\n",
       "      <td>8.7</td>\n",
       "      <td>1</td>\n",
       "      <td>0.0</td>\n",
       "      <td>0.0</td>\n",
       "      <td>NaN</td>\n",
       "      <td>294</td>\n",
       "      <td>2019-08-01 05:31:10</td>\n",
       "      <td>0</td>\n",
       "    </tr>\n",
       "    <tr>\n",
       "      <th>2</th>\n",
       "      <td>163241.0</td>\n",
       "      <td>MB7VY5F</td>\n",
       "      <td>2.0</td>\n",
       "      <td>14.4</td>\n",
       "      <td>1</td>\n",
       "      <td>0.0</td>\n",
       "      <td>0.0</td>\n",
       "      <td>NaN</td>\n",
       "      <td>83</td>\n",
       "      <td>2019-08-01 05:31:33</td>\n",
       "      <td>0</td>\n",
       "    </tr>\n",
       "    <tr>\n",
       "      <th>3</th>\n",
       "      <td>163244.0</td>\n",
       "      <td>KDJ951Y</td>\n",
       "      <td>1.0</td>\n",
       "      <td>7.1</td>\n",
       "      <td>1</td>\n",
       "      <td>0.0</td>\n",
       "      <td>0.0</td>\n",
       "      <td>NaN</td>\n",
       "      <td>90</td>\n",
       "      <td>2019-08-01 05:34:54</td>\n",
       "      <td>0</td>\n",
       "    </tr>\n",
       "    <tr>\n",
       "      <th>4</th>\n",
       "      <td>163245.0</td>\n",
       "      <td>BAL0RVT</td>\n",
       "      <td>4.0</td>\n",
       "      <td>27.2</td>\n",
       "      <td>1</td>\n",
       "      <td>0.0</td>\n",
       "      <td>0.0</td>\n",
       "      <td>NaN</td>\n",
       "      <td>83</td>\n",
       "      <td>2019-08-01 05:35:51</td>\n",
       "      <td>0</td>\n",
       "    </tr>\n",
       "  </tbody>\n",
       "</table>\n",
       "</div>"
      ],
      "text/plain": [
       "   akeed_order_id customer_id  item_count  grand_total  payment_mode  \\\n",
       "0        163238.0     92PEE24         1.0          7.6             2   \n",
       "1        163240.0     QS68UD8         1.0          8.7             1   \n",
       "2        163241.0     MB7VY5F         2.0         14.4             1   \n",
       "3        163244.0     KDJ951Y         1.0          7.1             1   \n",
       "4        163245.0     BAL0RVT         4.0         27.2             1   \n",
       "\n",
       "   vendor_discount_amount  deliverydistance delivered_time  vendor_id  \\\n",
       "0                     0.0               0.0            NaN        105   \n",
       "1                     0.0               0.0            NaN        294   \n",
       "2                     0.0               0.0            NaN         83   \n",
       "3                     0.0               0.0            NaN         90   \n",
       "4                     0.0               0.0            NaN         83   \n",
       "\n",
       "            created_at  LOCATION_NUMBER  \n",
       "0  2019-08-01 05:30:16                0  \n",
       "1  2019-08-01 05:31:10                0  \n",
       "2  2019-08-01 05:31:33                0  \n",
       "3  2019-08-01 05:34:54                0  \n",
       "4  2019-08-01 05:35:51                0  "
      ]
     },
     "execution_count": 12,
     "metadata": {},
     "output_type": "execute_result"
    }
   ],
   "source": [
    "df_orders.head()"
   ]
  },
  {
   "cell_type": "code",
   "execution_count": 13,
   "metadata": {},
   "outputs": [],
   "source": [
    "# lets rename some columns to have more meaningful names\n",
    "df_orders.rename(columns={'LOCATION_NUMBER':'location_number','akeed_order_id':'order_id'}, inplace=True)"
   ]
  },
  {
   "cell_type": "code",
   "execution_count": 14,
   "metadata": {},
   "outputs": [],
   "source": [
    "# rearange the column order\n",
    "df_orders = df_orders[['order_id', 'customer_id', 'vendor_id','location_number','item_count', 'grand_total', 'payment_mode',\n",
    "                       'vendor_discount_amount', 'deliverydistance', 'delivered_time', 'created_at'\n",
    "                      ]]"
   ]
  },
  {
   "cell_type": "code",
   "execution_count": 15,
   "metadata": {},
   "outputs": [
    {
     "data": {
      "text/plain": [
       "70"
      ]
     },
     "execution_count": 15,
     "metadata": {},
     "output_type": "execute_result"
    }
   ],
   "source": [
    "# dealing with the nulll values and dublicates, \n",
    "# in this case we are going to fill the NaN values with unique values, since they have usefull data.\n",
    "df_orders.order_id.isnull().sum()"
   ]
  },
  {
   "cell_type": "code",
   "execution_count": 16,
   "metadata": {},
   "outputs": [],
   "source": [
    "# since we know that there are not any order id from 0 to 70 we can use this as a replacement (also serves as udentification to spot easily which null values we replaced)\n",
    "replacement = np.arange(0,70)\n",
    "df_orders.loc[df_orders['order_id'].isnull(), 'order_id'] = replacement"
   ]
  },
  {
   "cell_type": "code",
   "execution_count": 17,
   "metadata": {},
   "outputs": [
    {
     "data": {
      "text/plain": [
       "0"
      ]
     },
     "execution_count": 17,
     "metadata": {},
     "output_type": "execute_result"
    }
   ],
   "source": [
    "df_orders.order_id.isnull().sum()"
   ]
  },
  {
   "cell_type": "code",
   "execution_count": 18,
   "metadata": {},
   "outputs": [
    {
     "data": {
      "text/plain": [
       "12"
      ]
     },
     "execution_count": 18,
     "metadata": {},
     "output_type": "execute_result"
    }
   ],
   "source": [
    "df_orders.order_id.duplicated().sum()"
   ]
  },
  {
   "cell_type": "code",
   "execution_count": 19,
   "metadata": {},
   "outputs": [],
   "source": [
    "# dropping the dubplicates\n",
    "df_orders.drop_duplicates(subset='order_id', keep='first', inplace=True) # we keep the 'first' order_id appearance, and drop the rest. \n",
    "# see more: https://pandas.pydata.org/pandas-docs/stable/reference/api/pandas.Series.drop_duplicates.html#pandas.Series.drop_duplicates"
   ]
  },
  {
   "cell_type": "code",
   "execution_count": 20,
   "metadata": {},
   "outputs": [
    {
     "data": {
      "text/plain": [
       "0"
      ]
     },
     "execution_count": 20,
     "metadata": {},
     "output_type": "execute_result"
    }
   ],
   "source": [
    "df_orders.order_id.duplicated().sum()"
   ]
  },
  {
   "cell_type": "markdown",
   "metadata": {},
   "source": [
    "**customers**"
   ]
  },
  {
   "cell_type": "code",
   "execution_count": 41,
   "metadata": {},
   "outputs": [
    {
     "data": {
      "text/plain": [
       "array(['EN', nan], dtype=object)"
      ]
     },
     "execution_count": 41,
     "metadata": {},
     "output_type": "execute_result"
    }
   ],
   "source": [
    "df_customers['language'].unique()"
   ]
  },
  {
   "cell_type": "code",
   "execution_count": 42,
   "metadata": {},
   "outputs": [],
   "source": [
    "# we remove dob since the most of its values are null, language since it is only EN and NA (not informative)\n",
    "df_customers.drop(columns = ['dob','language','updated_at'], axis = 1, inplace = True)"
   ]
  },
  {
   "cell_type": "code",
   "execution_count": 43,
   "metadata": {},
   "outputs": [
    {
     "data": {
      "text/plain": [
       "dtype('O')"
      ]
     },
     "execution_count": 43,
     "metadata": {},
     "output_type": "execute_result"
    }
   ],
   "source": [
    "df_customers['created_at'].dtypes"
   ]
  },
  {
   "cell_type": "code",
   "execution_count": 44,
   "metadata": {},
   "outputs": [],
   "source": [
    "# converting the delivered_time columns we are going to keep into a datetime object\n",
    "df_customers['created_at'] = pd.to_datetime(df_customers['created_at'])"
   ]
  },
  {
   "cell_type": "code",
   "execution_count": 45,
   "metadata": {},
   "outputs": [
    {
     "data": {
      "text/plain": [
       "dtype('<M8[ns]')"
      ]
     },
     "execution_count": 45,
     "metadata": {},
     "output_type": "execute_result"
    }
   ],
   "source": [
    "df_customers['created_at'].dtype"
   ]
  },
  {
   "cell_type": "code",
   "execution_count": 46,
   "metadata": {},
   "outputs": [],
   "source": [
    "# rename akeed_customer_id to customer_id\n",
    "df_customers.rename(columns={'akeed_customer_id':'customer_id'}, inplace=True)"
   ]
  },
  {
   "cell_type": "code",
   "execution_count": 47,
   "metadata": {},
   "outputs": [
    {
     "data": {
      "text/html": [
       "<div>\n",
       "<style scoped>\n",
       "    .dataframe tbody tr th:only-of-type {\n",
       "        vertical-align: middle;\n",
       "    }\n",
       "\n",
       "    .dataframe tbody tr th {\n",
       "        vertical-align: top;\n",
       "    }\n",
       "\n",
       "    .dataframe thead th {\n",
       "        text-align: right;\n",
       "    }\n",
       "</style>\n",
       "<table border=\"1\" class=\"dataframe\">\n",
       "  <thead>\n",
       "    <tr style=\"text-align: right;\">\n",
       "      <th></th>\n",
       "      <th>customer_id</th>\n",
       "      <th>gender</th>\n",
       "      <th>status</th>\n",
       "      <th>verified</th>\n",
       "      <th>created_at</th>\n",
       "    </tr>\n",
       "  </thead>\n",
       "  <tbody>\n",
       "    <tr>\n",
       "      <th>0</th>\n",
       "      <td>TCHWPBT</td>\n",
       "      <td>Male</td>\n",
       "      <td>1</td>\n",
       "      <td>1</td>\n",
       "      <td>2018-02-07 19:16:23</td>\n",
       "    </tr>\n",
       "    <tr>\n",
       "      <th>1</th>\n",
       "      <td>ZGFSYCZ</td>\n",
       "      <td>Male</td>\n",
       "      <td>1</td>\n",
       "      <td>1</td>\n",
       "      <td>2018-02-09 12:04:42</td>\n",
       "    </tr>\n",
       "    <tr>\n",
       "      <th>2</th>\n",
       "      <td>S2ALZFL</td>\n",
       "      <td>Male</td>\n",
       "      <td>0</td>\n",
       "      <td>1</td>\n",
       "      <td>2018-03-14 18:31:43</td>\n",
       "    </tr>\n",
       "    <tr>\n",
       "      <th>3</th>\n",
       "      <td>952DBJQ</td>\n",
       "      <td>Male</td>\n",
       "      <td>1</td>\n",
       "      <td>1</td>\n",
       "      <td>2018-03-15 19:47:07</td>\n",
       "    </tr>\n",
       "    <tr>\n",
       "      <th>4</th>\n",
       "      <td>1IX6FXS</td>\n",
       "      <td>Male</td>\n",
       "      <td>1</td>\n",
       "      <td>1</td>\n",
       "      <td>2018-03-15 19:57:01</td>\n",
       "    </tr>\n",
       "  </tbody>\n",
       "</table>\n",
       "</div>"
      ],
      "text/plain": [
       "  customer_id gender  status  verified          created_at\n",
       "0     TCHWPBT   Male       1         1 2018-02-07 19:16:23\n",
       "1     ZGFSYCZ   Male       1         1 2018-02-09 12:04:42\n",
       "2     S2ALZFL   Male       0         1 2018-03-14 18:31:43\n",
       "3     952DBJQ   Male       1         1 2018-03-15 19:47:07\n",
       "4     1IX6FXS   Male       1         1 2018-03-15 19:57:01"
      ]
     },
     "execution_count": 47,
     "metadata": {},
     "output_type": "execute_result"
    }
   ],
   "source": [
    "df_customers.head()"
   ]
  },
  {
   "cell_type": "code",
   "execution_count": 90,
   "metadata": {},
   "outputs": [
    {
     "data": {
      "text/plain": [
       "array([1, 0], dtype=int64)"
      ]
     },
     "execution_count": 90,
     "metadata": {},
     "output_type": "execute_result"
    }
   ],
   "source": [
    "df_customers.verified.unique()"
   ]
  },
  {
   "cell_type": "code",
   "execution_count": 48,
   "metadata": {},
   "outputs": [
    {
     "data": {
      "text/plain": [
       "151"
      ]
     },
     "execution_count": 48,
     "metadata": {},
     "output_type": "execute_result"
    }
   ],
   "source": [
    "# dealing with the duplicates in customer_id\n",
    "df_customers.customer_id.duplicated().sum()"
   ]
  },
  {
   "cell_type": "code",
   "execution_count": 49,
   "metadata": {},
   "outputs": [],
   "source": [
    "df_customers.drop_duplicates(subset='customer_id', keep='first', inplace=True)"
   ]
  },
  {
   "cell_type": "code",
   "execution_count": 50,
   "metadata": {},
   "outputs": [
    {
     "data": {
      "text/plain": [
       "0"
      ]
     },
     "execution_count": 50,
     "metadata": {},
     "output_type": "execute_result"
    }
   ],
   "source": [
    "df_customers.customer_id.duplicated().sum()"
   ]
  },
  {
   "cell_type": "code",
   "execution_count": 54,
   "metadata": {},
   "outputs": [
    {
     "data": {
      "text/plain": [
       "array(['Male', 'Female', 'Female  ', 'Female   ', 'Female    ', 'Male  ',\n",
       "       '  ', 'Female ', nan, '?????', 'male'], dtype=object)"
      ]
     },
     "execution_count": 54,
     "metadata": {},
     "output_type": "execute_result"
    }
   ],
   "source": [
    "# the gender column appear to need some cleaning, there are spaces between the column values, also a '????' value exists.\n",
    "# Furthemore having only F and M for female and male values is more prefertable, since it requires less space in the memory.\n",
    "df_customers.gender.unique()"
   ]
  },
  {
   "cell_type": "code",
   "execution_count": 68,
   "metadata": {},
   "outputs": [],
   "source": [
    "# lets remove the white spaces using str.strip()\n",
    "df_customers.gender = df_customers.gender.str.strip()"
   ]
  },
  {
   "cell_type": "code",
   "execution_count": 69,
   "metadata": {},
   "outputs": [
    {
     "data": {
      "text/plain": [
       "array(['Male', 'Female', '', nan, '?????', 'male'], dtype=object)"
      ]
     },
     "execution_count": 69,
     "metadata": {},
     "output_type": "execute_result"
    }
   ],
   "source": [
    "df_customers.gender.unique()"
   ]
  },
  {
   "cell_type": "code",
   "execution_count": 74,
   "metadata": {},
   "outputs": [],
   "source": [
    "# lets replace empty strings with nan, '?????'' with nan and 'Male','male' and 'Female' to 'M' and 'F' respectively\n",
    "df_customers.gender.replace(to_replace={'':np.nan, '?????':np.nan, 'Male':'M', 'male':'M','Female':'F'}, inplace=True)"
   ]
  },
  {
   "cell_type": "code",
   "execution_count": 75,
   "metadata": {},
   "outputs": [
    {
     "data": {
      "text/plain": [
       "array(['M', 'F', nan], dtype=object)"
      ]
     },
     "execution_count": 75,
     "metadata": {},
     "output_type": "execute_result"
    }
   ],
   "source": [
    "df_customers.gender.unique()"
   ]
  },
  {
   "cell_type": "code",
   "execution_count": 84,
   "metadata": {},
   "outputs": [
    {
     "data": {
      "text/plain": [
       "M    20587\n",
       "F     1779\n",
       "Name: gender, dtype: int64"
      ]
     },
     "execution_count": 84,
     "metadata": {},
     "output_type": "execute_result"
    }
   ],
   "source": [
    "df_customers.gender.value_counts()"
   ]
  },
  {
   "cell_type": "code",
   "execution_count": 80,
   "metadata": {},
   "outputs": [
    {
     "data": {
      "text/plain": [
       "12157"
      ]
     },
     "execution_count": 80,
     "metadata": {},
     "output_type": "execute_result"
    }
   ],
   "source": [
    "df_customers.gender.isnull().sum()"
   ]
  },
  {
   "cell_type": "code",
   "execution_count": 94,
   "metadata": {},
   "outputs": [
    {
     "data": {
      "text/html": [
       "<div>\n",
       "<style scoped>\n",
       "    .dataframe tbody tr th:only-of-type {\n",
       "        vertical-align: middle;\n",
       "    }\n",
       "\n",
       "    .dataframe tbody tr th {\n",
       "        vertical-align: top;\n",
       "    }\n",
       "\n",
       "    .dataframe thead th {\n",
       "        text-align: right;\n",
       "    }\n",
       "</style>\n",
       "<table border=\"1\" class=\"dataframe\">\n",
       "  <thead>\n",
       "    <tr style=\"text-align: right;\">\n",
       "      <th></th>\n",
       "      <th>customer_id</th>\n",
       "      <th>gender</th>\n",
       "      <th>status</th>\n",
       "      <th>verified</th>\n",
       "      <th>created_at</th>\n",
       "    </tr>\n",
       "  </thead>\n",
       "  <tbody>\n",
       "    <tr>\n",
       "      <th>0</th>\n",
       "      <td>TCHWPBT</td>\n",
       "      <td>M</td>\n",
       "      <td>1</td>\n",
       "      <td>1</td>\n",
       "      <td>2018-02-07 19:16:23</td>\n",
       "    </tr>\n",
       "    <tr>\n",
       "      <th>1</th>\n",
       "      <td>ZGFSYCZ</td>\n",
       "      <td>M</td>\n",
       "      <td>1</td>\n",
       "      <td>1</td>\n",
       "      <td>2018-02-09 12:04:42</td>\n",
       "    </tr>\n",
       "    <tr>\n",
       "      <th>2</th>\n",
       "      <td>S2ALZFL</td>\n",
       "      <td>M</td>\n",
       "      <td>0</td>\n",
       "      <td>1</td>\n",
       "      <td>2018-03-14 18:31:43</td>\n",
       "    </tr>\n",
       "    <tr>\n",
       "      <th>3</th>\n",
       "      <td>952DBJQ</td>\n",
       "      <td>M</td>\n",
       "      <td>1</td>\n",
       "      <td>1</td>\n",
       "      <td>2018-03-15 19:47:07</td>\n",
       "    </tr>\n",
       "    <tr>\n",
       "      <th>4</th>\n",
       "      <td>1IX6FXS</td>\n",
       "      <td>M</td>\n",
       "      <td>1</td>\n",
       "      <td>1</td>\n",
       "      <td>2018-03-15 19:57:01</td>\n",
       "    </tr>\n",
       "    <tr>\n",
       "      <th>...</th>\n",
       "      <td>...</td>\n",
       "      <td>...</td>\n",
       "      <td>...</td>\n",
       "      <td>...</td>\n",
       "      <td>...</td>\n",
       "    </tr>\n",
       "    <tr>\n",
       "      <th>34669</th>\n",
       "      <td>JAI79PE</td>\n",
       "      <td>NaN</td>\n",
       "      <td>1</td>\n",
       "      <td>1</td>\n",
       "      <td>2020-03-03 13:01:13</td>\n",
       "    </tr>\n",
       "    <tr>\n",
       "      <th>34670</th>\n",
       "      <td>TR75VFL</td>\n",
       "      <td>NaN</td>\n",
       "      <td>1</td>\n",
       "      <td>1</td>\n",
       "      <td>2020-03-03 13:22:35</td>\n",
       "    </tr>\n",
       "    <tr>\n",
       "      <th>34671</th>\n",
       "      <td>SQMJ08H</td>\n",
       "      <td>NaN</td>\n",
       "      <td>1</td>\n",
       "      <td>1</td>\n",
       "      <td>2020-03-03 13:24:27</td>\n",
       "    </tr>\n",
       "    <tr>\n",
       "      <th>34672</th>\n",
       "      <td>9LW9CHN</td>\n",
       "      <td>NaN</td>\n",
       "      <td>1</td>\n",
       "      <td>1</td>\n",
       "      <td>2020-03-03 13:24:28</td>\n",
       "    </tr>\n",
       "    <tr>\n",
       "      <th>34673</th>\n",
       "      <td>LBMRK7A</td>\n",
       "      <td>NaN</td>\n",
       "      <td>1</td>\n",
       "      <td>1</td>\n",
       "      <td>2020-03-03 13:31:52</td>\n",
       "    </tr>\n",
       "  </tbody>\n",
       "</table>\n",
       "<p>34523 rows × 5 columns</p>\n",
       "</div>"
      ],
      "text/plain": [
       "      customer_id gender  status  verified          created_at\n",
       "0         TCHWPBT      M       1         1 2018-02-07 19:16:23\n",
       "1         ZGFSYCZ      M       1         1 2018-02-09 12:04:42\n",
       "2         S2ALZFL      M       0         1 2018-03-14 18:31:43\n",
       "3         952DBJQ      M       1         1 2018-03-15 19:47:07\n",
       "4         1IX6FXS      M       1         1 2018-03-15 19:57:01\n",
       "...           ...    ...     ...       ...                 ...\n",
       "34669     JAI79PE    NaN       1         1 2020-03-03 13:01:13\n",
       "34670     TR75VFL    NaN       1         1 2020-03-03 13:22:35\n",
       "34671     SQMJ08H    NaN       1         1 2020-03-03 13:24:27\n",
       "34672     9LW9CHN    NaN       1         1 2020-03-03 13:24:28\n",
       "34673     LBMRK7A    NaN       1         1 2020-03-03 13:31:52\n",
       "\n",
       "[34523 rows x 5 columns]"
      ]
     },
     "execution_count": 94,
     "metadata": {},
     "output_type": "execute_result"
    }
   ],
   "source": [
    "df_customers"
   ]
  },
  {
   "cell_type": "markdown",
   "metadata": {},
   "source": [
    "**locations**"
   ]
  },
  {
   "cell_type": "code",
   "execution_count": 35,
   "metadata": {},
   "outputs": [
    {
     "name": "stdout",
     "output_type": "stream",
     "text": [
      "<class 'pandas.core.frame.DataFrame'>\n",
      "RangeIndex: 59503 entries, 0 to 59502\n",
      "Data columns (total 5 columns):\n",
      " #   Column           Non-Null Count  Dtype  \n",
      "---  ------           --------------  -----  \n",
      " 0   customer_id      59503 non-null  object \n",
      " 1   location_number  59503 non-null  int64  \n",
      " 2   location_type    32294 non-null  object \n",
      " 3   latitude         59497 non-null  float64\n",
      " 4   longitude        59497 non-null  float64\n",
      "dtypes: float64(2), int64(1), object(2)\n",
      "memory usage: 2.3+ MB\n"
     ]
    }
   ],
   "source": [
    "df_locations.info()"
   ]
  },
  {
   "cell_type": "code",
   "execution_count": 118,
   "metadata": {},
   "outputs": [],
   "source": [
    "# as we noticed in the heatmap the location_type column consists mostly by NA values, so we remove it\n",
    "df_locations.drop(columns = ['location_type'], axis = 1, inplace = True)"
   ]
  },
  {
   "cell_type": "code",
   "execution_count": 119,
   "metadata": {},
   "outputs": [
    {
     "data": {
      "text/html": [
       "<div>\n",
       "<style scoped>\n",
       "    .dataframe tbody tr th:only-of-type {\n",
       "        vertical-align: middle;\n",
       "    }\n",
       "\n",
       "    .dataframe tbody tr th {\n",
       "        vertical-align: top;\n",
       "    }\n",
       "\n",
       "    .dataframe thead th {\n",
       "        text-align: right;\n",
       "    }\n",
       "</style>\n",
       "<table border=\"1\" class=\"dataframe\">\n",
       "  <thead>\n",
       "    <tr style=\"text-align: right;\">\n",
       "      <th></th>\n",
       "      <th>customer_id</th>\n",
       "      <th>location_number</th>\n",
       "      <th>latitude</th>\n",
       "      <th>longitude</th>\n",
       "    </tr>\n",
       "  </thead>\n",
       "  <tbody>\n",
       "    <tr>\n",
       "      <th>0</th>\n",
       "      <td>02SFNJH</td>\n",
       "      <td>0</td>\n",
       "      <td>1.682392</td>\n",
       "      <td>-78.789737</td>\n",
       "    </tr>\n",
       "    <tr>\n",
       "      <th>1</th>\n",
       "      <td>02SFNJH</td>\n",
       "      <td>1</td>\n",
       "      <td>1.679137</td>\n",
       "      <td>0.766823</td>\n",
       "    </tr>\n",
       "    <tr>\n",
       "      <th>2</th>\n",
       "      <td>02SFNJH</td>\n",
       "      <td>2</td>\n",
       "      <td>-0.498648</td>\n",
       "      <td>0.661241</td>\n",
       "    </tr>\n",
       "    <tr>\n",
       "      <th>3</th>\n",
       "      <td>RU43CXC</td>\n",
       "      <td>0</td>\n",
       "      <td>0.100853</td>\n",
       "      <td>0.438165</td>\n",
       "    </tr>\n",
       "    <tr>\n",
       "      <th>4</th>\n",
       "      <td>BDFBPRD</td>\n",
       "      <td>0</td>\n",
       "      <td>2.523125</td>\n",
       "      <td>0.733464</td>\n",
       "    </tr>\n",
       "    <tr>\n",
       "      <th>...</th>\n",
       "      <td>...</td>\n",
       "      <td>...</td>\n",
       "      <td>...</td>\n",
       "      <td>...</td>\n",
       "    </tr>\n",
       "    <tr>\n",
       "      <th>59498</th>\n",
       "      <td>9PP42SA</td>\n",
       "      <td>2</td>\n",
       "      <td>-0.788515</td>\n",
       "      <td>-78.497721</td>\n",
       "    </tr>\n",
       "    <tr>\n",
       "      <th>59499</th>\n",
       "      <td>9PP42SA</td>\n",
       "      <td>3</td>\n",
       "      <td>-1.445114</td>\n",
       "      <td>0.072558</td>\n",
       "    </tr>\n",
       "    <tr>\n",
       "      <th>59500</th>\n",
       "      <td>9PP42SA</td>\n",
       "      <td>4</td>\n",
       "      <td>-0.001785</td>\n",
       "      <td>0.431695</td>\n",
       "    </tr>\n",
       "    <tr>\n",
       "      <th>59501</th>\n",
       "      <td>HWELAU8</td>\n",
       "      <td>0</td>\n",
       "      <td>-0.066291</td>\n",
       "      <td>-78.583075</td>\n",
       "    </tr>\n",
       "    <tr>\n",
       "      <th>59502</th>\n",
       "      <td>HWELAU8</td>\n",
       "      <td>1</td>\n",
       "      <td>-0.067043</td>\n",
       "      <td>0.648221</td>\n",
       "    </tr>\n",
       "  </tbody>\n",
       "</table>\n",
       "<p>59503 rows × 4 columns</p>\n",
       "</div>"
      ],
      "text/plain": [
       "      customer_id  location_number  latitude  longitude\n",
       "0         02SFNJH                0  1.682392 -78.789737\n",
       "1         02SFNJH                1  1.679137   0.766823\n",
       "2         02SFNJH                2 -0.498648   0.661241\n",
       "3         RU43CXC                0  0.100853   0.438165\n",
       "4         BDFBPRD                0  2.523125   0.733464\n",
       "...           ...              ...       ...        ...\n",
       "59498     9PP42SA                2 -0.788515 -78.497721\n",
       "59499     9PP42SA                3 -1.445114   0.072558\n",
       "59500     9PP42SA                4 -0.001785   0.431695\n",
       "59501     HWELAU8                0 -0.066291 -78.583075\n",
       "59502     HWELAU8                1 -0.067043   0.648221\n",
       "\n",
       "[59503 rows x 4 columns]"
      ]
     },
     "execution_count": 119,
     "metadata": {},
     "output_type": "execute_result"
    }
   ],
   "source": [
    "df_locations"
   ]
  },
  {
   "cell_type": "markdown",
   "metadata": {},
   "source": [
    "**vendors df**"
   ]
  },
  {
   "cell_type": "markdown",
   "metadata": {},
   "source": [
    "we remove the columns mentioned in the coursework brief from vendors:</br></br>\n",
    "’sunday_from_time1’, ’sunday_to_time1’,\n",
    "’sunday_from_time2’, ’sunday_to_time2’, ’monday_from_time1’,\n",
    "’monday_to_time1’, ’monday_from_time2’, ’monday_to_time2’,\n",
    "’tuesday_from_time1’, ’tuesday_to_time1’, ’tuesday_from_time2’,\n",
    "’tuesday_to_time2’, ’wednesday_from_time1’,\n",
    "’wednesday_to_time1’,\n",
    "’wednesday_from_time2’, ’wednesday_to_time2’,\n",
    "’thursday_from_time1’,\n",
    "’thursday_to_time1’, ’thursday_from_time2’,\n",
    "’thursday_to_time2’,\n",
    "’friday_from_time1’, ’friday_to_time1’, ’friday_from_time2’,\n",
    "’friday_to_time2’, ’saturday_from_time1’, ’saturday_to_time1’,\n",
    "’saturday_from_time2’, ’saturday_to_time2’"
   ]
  },
  {
   "cell_type": "code",
   "execution_count": 120,
   "metadata": {},
   "outputs": [],
   "source": [
    "df_vendors.drop(df_vendors.iloc[:,20:48], axis=1, inplace=True)"
   ]
  },
  {
   "cell_type": "code",
   "execution_count": 121,
   "metadata": {},
   "outputs": [
    {
     "data": {
      "text/plain": [
       "Restaurants       88\n",
       "Sweets & Bakes    12\n",
       "Name: vendor_category_en, dtype: int64"
      ]
     },
     "execution_count": 121,
     "metadata": {},
     "output_type": "execute_result"
    }
   ],
   "source": [
    "# also vendor_category_en consists only of 2 differnt values, we drop them too\n",
    "df_vendors.vendor_category_en.value_counts()"
   ]
  },
  {
   "cell_type": "code",
   "execution_count": 122,
   "metadata": {},
   "outputs": [
    {
     "data": {
      "text/plain": [
       "0.0     96\n",
       "15.0     1\n",
       "35.0     1\n",
       "50.0     1\n",
       "10.0     1\n",
       "Name: discount_percentage, dtype: int64"
      ]
     },
     "execution_count": 122,
     "metadata": {},
     "output_type": "execute_result"
    }
   ],
   "source": [
    "# same with almost for all the values is 0.0, we drop it\n",
    "df_vendors.discount_percentage.value_counts()"
   ]
  },
  {
   "cell_type": "code",
   "execution_count": 123,
   "metadata": {},
   "outputs": [
    {
     "data": {
      "text/plain": [
       "0.0    85\n",
       "Name: commission, dtype: int64"
      ]
     },
     "execution_count": 123,
     "metadata": {},
     "output_type": "execute_result"
    }
   ],
   "source": [
    "# commissions as well (can be 0.0 or NA)\n",
    "df_vendors.commission.value_counts()"
   ]
  },
  {
   "cell_type": "code",
   "execution_count": 124,
   "metadata": {},
   "outputs": [],
   "source": [
    "# also we drop everything else we did not choose to keep according to our ERD\n",
    "drop_list = ['authentication_id', 'vendor_category_id','is_open',\n",
    "             'OpeningTime2','prepration_time','is_akeed_delivering',\n",
    "             'status', 'verified','language','vendor_category_en',\n",
    "             'primary_tags','open_close_flags','vendor_tag', 'commission',\n",
    "             'one_click_vendor', 'country_id', 'city_id', 'discount_percentage',\n",
    "             'created_at','updated_at','device_type', 'display_orders']\n",
    "\n",
    "for column_name in drop_list:\n",
    "    df_vendors.drop(columns = column_name, axis=1, inplace=True)"
   ]
  },
  {
   "cell_type": "code",
   "execution_count": 125,
   "metadata": {},
   "outputs": [
    {
     "data": {
      "text/plain": [
       "Index(['id', 'latitude', 'longitude', 'delivery_charge', 'serving_distance',\n",
       "       'OpeningTime', 'rank', 'vendor_rating', 'vendor_tag_name'],\n",
       "      dtype='object')"
      ]
     },
     "execution_count": 125,
     "metadata": {},
     "output_type": "execute_result"
    }
   ],
   "source": [
    "df_vendors.columns"
   ]
  },
  {
   "cell_type": "code",
   "execution_count": 126,
   "metadata": {},
   "outputs": [
    {
     "data": {
      "text/html": [
       "<div>\n",
       "<style scoped>\n",
       "    .dataframe tbody tr th:only-of-type {\n",
       "        vertical-align: middle;\n",
       "    }\n",
       "\n",
       "    .dataframe tbody tr th {\n",
       "        vertical-align: top;\n",
       "    }\n",
       "\n",
       "    .dataframe thead th {\n",
       "        text-align: right;\n",
       "    }\n",
       "</style>\n",
       "<table border=\"1\" class=\"dataframe\">\n",
       "  <thead>\n",
       "    <tr style=\"text-align: right;\">\n",
       "      <th></th>\n",
       "      <th>id</th>\n",
       "      <th>latitude</th>\n",
       "      <th>longitude</th>\n",
       "      <th>delivery_charge</th>\n",
       "      <th>serving_distance</th>\n",
       "      <th>OpeningTime</th>\n",
       "      <th>rank</th>\n",
       "      <th>vendor_rating</th>\n",
       "      <th>vendor_tag_name</th>\n",
       "    </tr>\n",
       "  </thead>\n",
       "  <tbody>\n",
       "    <tr>\n",
       "      <th>0</th>\n",
       "      <td>4</td>\n",
       "      <td>-0.588596</td>\n",
       "      <td>0.754434</td>\n",
       "      <td>0.0</td>\n",
       "      <td>6.0</td>\n",
       "      <td>11:00AM-11:30PM</td>\n",
       "      <td>11</td>\n",
       "      <td>4.4</td>\n",
       "      <td>Arabic,Breakfast,Burgers,Desserts,Free Deliver...</td>\n",
       "    </tr>\n",
       "    <tr>\n",
       "      <th>1</th>\n",
       "      <td>13</td>\n",
       "      <td>-0.471654</td>\n",
       "      <td>0.744470</td>\n",
       "      <td>0.7</td>\n",
       "      <td>5.0</td>\n",
       "      <td>08:30AM-10:30PM</td>\n",
       "      <td>11</td>\n",
       "      <td>4.7</td>\n",
       "      <td>Breakfast,Cakes,Crepes,Italian,Pasta,Pizzas,Sa...</td>\n",
       "    </tr>\n",
       "    <tr>\n",
       "      <th>2</th>\n",
       "      <td>20</td>\n",
       "      <td>-0.407527</td>\n",
       "      <td>0.643681</td>\n",
       "      <td>0.0</td>\n",
       "      <td>8.0</td>\n",
       "      <td>08:00AM-10:45PM</td>\n",
       "      <td>1</td>\n",
       "      <td>4.5</td>\n",
       "      <td>Breakfast,Desserts,Free Delivery,Indian</td>\n",
       "    </tr>\n",
       "    <tr>\n",
       "      <th>3</th>\n",
       "      <td>23</td>\n",
       "      <td>-0.585385</td>\n",
       "      <td>0.753811</td>\n",
       "      <td>0.0</td>\n",
       "      <td>5.0</td>\n",
       "      <td>10:59AM-10:30PM</td>\n",
       "      <td>11</td>\n",
       "      <td>4.5</td>\n",
       "      <td>Burgers,Desserts,Fries,Salads</td>\n",
       "    </tr>\n",
       "    <tr>\n",
       "      <th>4</th>\n",
       "      <td>28</td>\n",
       "      <td>0.480602</td>\n",
       "      <td>0.552850</td>\n",
       "      <td>0.7</td>\n",
       "      <td>15.0</td>\n",
       "      <td>11:00AM-11:45PM</td>\n",
       "      <td>11</td>\n",
       "      <td>4.4</td>\n",
       "      <td>Burgers</td>\n",
       "    </tr>\n",
       "    <tr>\n",
       "      <th>...</th>\n",
       "      <td>...</td>\n",
       "      <td>...</td>\n",
       "      <td>...</td>\n",
       "      <td>...</td>\n",
       "      <td>...</td>\n",
       "      <td>...</td>\n",
       "      <td>...</td>\n",
       "      <td>...</td>\n",
       "      <td>...</td>\n",
       "    </tr>\n",
       "    <tr>\n",
       "      <th>95</th>\n",
       "      <td>849</td>\n",
       "      <td>-1.588060</td>\n",
       "      <td>-0.066441</td>\n",
       "      <td>0.0</td>\n",
       "      <td>10.0</td>\n",
       "      <td>NaN</td>\n",
       "      <td>1</td>\n",
       "      <td>4.1</td>\n",
       "      <td>American,Breakfast,Burgers,Cafe,Desserts,Free ...</td>\n",
       "    </tr>\n",
       "    <tr>\n",
       "      <th>96</th>\n",
       "      <td>855</td>\n",
       "      <td>2.145206</td>\n",
       "      <td>0.745025</td>\n",
       "      <td>0.0</td>\n",
       "      <td>8.0</td>\n",
       "      <td>NaN</td>\n",
       "      <td>1</td>\n",
       "      <td>4.2</td>\n",
       "      <td>American,Burgers,Desserts,Free Delivery,Fries,...</td>\n",
       "    </tr>\n",
       "    <tr>\n",
       "      <th>97</th>\n",
       "      <td>856</td>\n",
       "      <td>0.251469</td>\n",
       "      <td>0.483632</td>\n",
       "      <td>0.0</td>\n",
       "      <td>7.0</td>\n",
       "      <td>NaN</td>\n",
       "      <td>11</td>\n",
       "      <td>4.3</td>\n",
       "      <td>American,Breakfast,Burgers,Cafe,Desserts,Free ...</td>\n",
       "    </tr>\n",
       "    <tr>\n",
       "      <th>98</th>\n",
       "      <td>858</td>\n",
       "      <td>0.019817</td>\n",
       "      <td>0.587087</td>\n",
       "      <td>0.0</td>\n",
       "      <td>3.0</td>\n",
       "      <td>NaN</td>\n",
       "      <td>11</td>\n",
       "      <td>4.2</td>\n",
       "      <td>American,Breakfast,Burgers,Cafe,Desserts,Free ...</td>\n",
       "    </tr>\n",
       "    <tr>\n",
       "      <th>99</th>\n",
       "      <td>907</td>\n",
       "      <td>13.335131</td>\n",
       "      <td>-1.449556</td>\n",
       "      <td>0.7</td>\n",
       "      <td>12.0</td>\n",
       "      <td>NaN</td>\n",
       "      <td>11</td>\n",
       "      <td>4.3</td>\n",
       "      <td>Fatayers,Mojitos ,Sandwiches</td>\n",
       "    </tr>\n",
       "  </tbody>\n",
       "</table>\n",
       "<p>100 rows × 9 columns</p>\n",
       "</div>"
      ],
      "text/plain": [
       "     id   latitude  longitude  delivery_charge  serving_distance  \\\n",
       "0     4  -0.588596   0.754434              0.0               6.0   \n",
       "1    13  -0.471654   0.744470              0.7               5.0   \n",
       "2    20  -0.407527   0.643681              0.0               8.0   \n",
       "3    23  -0.585385   0.753811              0.0               5.0   \n",
       "4    28   0.480602   0.552850              0.7              15.0   \n",
       "..  ...        ...        ...              ...               ...   \n",
       "95  849  -1.588060  -0.066441              0.0              10.0   \n",
       "96  855   2.145206   0.745025              0.0               8.0   \n",
       "97  856   0.251469   0.483632              0.0               7.0   \n",
       "98  858   0.019817   0.587087              0.0               3.0   \n",
       "99  907  13.335131  -1.449556              0.7              12.0   \n",
       "\n",
       "        OpeningTime  rank  vendor_rating  \\\n",
       "0   11:00AM-11:30PM    11            4.4   \n",
       "1   08:30AM-10:30PM    11            4.7   \n",
       "2   08:00AM-10:45PM     1            4.5   \n",
       "3   10:59AM-10:30PM    11            4.5   \n",
       "4   11:00AM-11:45PM    11            4.4   \n",
       "..              ...   ...            ...   \n",
       "95              NaN     1            4.1   \n",
       "96              NaN     1            4.2   \n",
       "97              NaN    11            4.3   \n",
       "98              NaN    11            4.2   \n",
       "99              NaN    11            4.3   \n",
       "\n",
       "                                      vendor_tag_name  \n",
       "0   Arabic,Breakfast,Burgers,Desserts,Free Deliver...  \n",
       "1   Breakfast,Cakes,Crepes,Italian,Pasta,Pizzas,Sa...  \n",
       "2             Breakfast,Desserts,Free Delivery,Indian  \n",
       "3                       Burgers,Desserts,Fries,Salads  \n",
       "4                                             Burgers  \n",
       "..                                                ...  \n",
       "95  American,Breakfast,Burgers,Cafe,Desserts,Free ...  \n",
       "96  American,Burgers,Desserts,Free Delivery,Fries,...  \n",
       "97  American,Breakfast,Burgers,Cafe,Desserts,Free ...  \n",
       "98  American,Breakfast,Burgers,Cafe,Desserts,Free ...  \n",
       "99                       Fatayers,Mojitos ,Sandwiches  \n",
       "\n",
       "[100 rows x 9 columns]"
      ]
     },
     "execution_count": 126,
     "metadata": {},
     "output_type": "execute_result"
    }
   ],
   "source": [
    "df_vendors"
   ]
  },
  {
   "cell_type": "code",
   "execution_count": 127,
   "metadata": {},
   "outputs": [],
   "source": [
    "# the opening times, should be more easier to handle if we split it into 2 different columns, OpeningTime and ClosingTime and make the datetime objects\n",
    "df_vendors[['opening_time','closing_time']] = df_vendors['OpeningTime'].str.split(\"-\",n=1,expand=True)"
   ]
  },
  {
   "cell_type": "code",
   "execution_count": 128,
   "metadata": {},
   "outputs": [],
   "source": [
    "# dropping the unnecessary OpeningTime column\n",
    "df_vendors.drop('OpeningTime', axis=1, inplace = True)"
   ]
  },
  {
   "cell_type": "code",
   "execution_count": 130,
   "metadata": {},
   "outputs": [],
   "source": [
    "# renaming id to vendor_id\n",
    "df_vendors.rename(columns={'id':\"vendor_id\"}, inplace=True)"
   ]
  },
  {
   "cell_type": "code",
   "execution_count": 131,
   "metadata": {},
   "outputs": [
    {
     "data": {
      "text/html": [
       "<div>\n",
       "<style scoped>\n",
       "    .dataframe tbody tr th:only-of-type {\n",
       "        vertical-align: middle;\n",
       "    }\n",
       "\n",
       "    .dataframe tbody tr th {\n",
       "        vertical-align: top;\n",
       "    }\n",
       "\n",
       "    .dataframe thead th {\n",
       "        text-align: right;\n",
       "    }\n",
       "</style>\n",
       "<table border=\"1\" class=\"dataframe\">\n",
       "  <thead>\n",
       "    <tr style=\"text-align: right;\">\n",
       "      <th></th>\n",
       "      <th>vendor_id</th>\n",
       "      <th>latitude</th>\n",
       "      <th>longitude</th>\n",
       "      <th>delivery_charge</th>\n",
       "      <th>serving_distance</th>\n",
       "      <th>rank</th>\n",
       "      <th>vendor_rating</th>\n",
       "      <th>vendor_tag_name</th>\n",
       "      <th>opening_time</th>\n",
       "      <th>closing_time</th>\n",
       "    </tr>\n",
       "  </thead>\n",
       "  <tbody>\n",
       "    <tr>\n",
       "      <th>0</th>\n",
       "      <td>4</td>\n",
       "      <td>-0.588596</td>\n",
       "      <td>0.754434</td>\n",
       "      <td>0.0</td>\n",
       "      <td>6.0</td>\n",
       "      <td>11</td>\n",
       "      <td>4.4</td>\n",
       "      <td>Arabic,Breakfast,Burgers,Desserts,Free Deliver...</td>\n",
       "      <td>11:00AM</td>\n",
       "      <td>11:30PM</td>\n",
       "    </tr>\n",
       "    <tr>\n",
       "      <th>1</th>\n",
       "      <td>13</td>\n",
       "      <td>-0.471654</td>\n",
       "      <td>0.744470</td>\n",
       "      <td>0.7</td>\n",
       "      <td>5.0</td>\n",
       "      <td>11</td>\n",
       "      <td>4.7</td>\n",
       "      <td>Breakfast,Cakes,Crepes,Italian,Pasta,Pizzas,Sa...</td>\n",
       "      <td>08:30AM</td>\n",
       "      <td>10:30PM</td>\n",
       "    </tr>\n",
       "    <tr>\n",
       "      <th>2</th>\n",
       "      <td>20</td>\n",
       "      <td>-0.407527</td>\n",
       "      <td>0.643681</td>\n",
       "      <td>0.0</td>\n",
       "      <td>8.0</td>\n",
       "      <td>1</td>\n",
       "      <td>4.5</td>\n",
       "      <td>Breakfast,Desserts,Free Delivery,Indian</td>\n",
       "      <td>08:00AM</td>\n",
       "      <td>10:45PM</td>\n",
       "    </tr>\n",
       "    <tr>\n",
       "      <th>3</th>\n",
       "      <td>23</td>\n",
       "      <td>-0.585385</td>\n",
       "      <td>0.753811</td>\n",
       "      <td>0.0</td>\n",
       "      <td>5.0</td>\n",
       "      <td>11</td>\n",
       "      <td>4.5</td>\n",
       "      <td>Burgers,Desserts,Fries,Salads</td>\n",
       "      <td>10:59AM</td>\n",
       "      <td>10:30PM</td>\n",
       "    </tr>\n",
       "    <tr>\n",
       "      <th>4</th>\n",
       "      <td>28</td>\n",
       "      <td>0.480602</td>\n",
       "      <td>0.552850</td>\n",
       "      <td>0.7</td>\n",
       "      <td>15.0</td>\n",
       "      <td>11</td>\n",
       "      <td>4.4</td>\n",
       "      <td>Burgers</td>\n",
       "      <td>11:00AM</td>\n",
       "      <td>11:45PM</td>\n",
       "    </tr>\n",
       "    <tr>\n",
       "      <th>...</th>\n",
       "      <td>...</td>\n",
       "      <td>...</td>\n",
       "      <td>...</td>\n",
       "      <td>...</td>\n",
       "      <td>...</td>\n",
       "      <td>...</td>\n",
       "      <td>...</td>\n",
       "      <td>...</td>\n",
       "      <td>...</td>\n",
       "      <td>...</td>\n",
       "    </tr>\n",
       "    <tr>\n",
       "      <th>95</th>\n",
       "      <td>849</td>\n",
       "      <td>-1.588060</td>\n",
       "      <td>-0.066441</td>\n",
       "      <td>0.0</td>\n",
       "      <td>10.0</td>\n",
       "      <td>1</td>\n",
       "      <td>4.1</td>\n",
       "      <td>American,Breakfast,Burgers,Cafe,Desserts,Free ...</td>\n",
       "      <td>NaN</td>\n",
       "      <td>NaN</td>\n",
       "    </tr>\n",
       "    <tr>\n",
       "      <th>96</th>\n",
       "      <td>855</td>\n",
       "      <td>2.145206</td>\n",
       "      <td>0.745025</td>\n",
       "      <td>0.0</td>\n",
       "      <td>8.0</td>\n",
       "      <td>1</td>\n",
       "      <td>4.2</td>\n",
       "      <td>American,Burgers,Desserts,Free Delivery,Fries,...</td>\n",
       "      <td>NaN</td>\n",
       "      <td>NaN</td>\n",
       "    </tr>\n",
       "    <tr>\n",
       "      <th>97</th>\n",
       "      <td>856</td>\n",
       "      <td>0.251469</td>\n",
       "      <td>0.483632</td>\n",
       "      <td>0.0</td>\n",
       "      <td>7.0</td>\n",
       "      <td>11</td>\n",
       "      <td>4.3</td>\n",
       "      <td>American,Breakfast,Burgers,Cafe,Desserts,Free ...</td>\n",
       "      <td>NaN</td>\n",
       "      <td>NaN</td>\n",
       "    </tr>\n",
       "    <tr>\n",
       "      <th>98</th>\n",
       "      <td>858</td>\n",
       "      <td>0.019817</td>\n",
       "      <td>0.587087</td>\n",
       "      <td>0.0</td>\n",
       "      <td>3.0</td>\n",
       "      <td>11</td>\n",
       "      <td>4.2</td>\n",
       "      <td>American,Breakfast,Burgers,Cafe,Desserts,Free ...</td>\n",
       "      <td>NaN</td>\n",
       "      <td>NaN</td>\n",
       "    </tr>\n",
       "    <tr>\n",
       "      <th>99</th>\n",
       "      <td>907</td>\n",
       "      <td>13.335131</td>\n",
       "      <td>-1.449556</td>\n",
       "      <td>0.7</td>\n",
       "      <td>12.0</td>\n",
       "      <td>11</td>\n",
       "      <td>4.3</td>\n",
       "      <td>Fatayers,Mojitos ,Sandwiches</td>\n",
       "      <td>NaN</td>\n",
       "      <td>NaN</td>\n",
       "    </tr>\n",
       "  </tbody>\n",
       "</table>\n",
       "<p>100 rows × 10 columns</p>\n",
       "</div>"
      ],
      "text/plain": [
       "    vendor_id   latitude  longitude  delivery_charge  serving_distance  rank  \\\n",
       "0           4  -0.588596   0.754434              0.0               6.0    11   \n",
       "1          13  -0.471654   0.744470              0.7               5.0    11   \n",
       "2          20  -0.407527   0.643681              0.0               8.0     1   \n",
       "3          23  -0.585385   0.753811              0.0               5.0    11   \n",
       "4          28   0.480602   0.552850              0.7              15.0    11   \n",
       "..        ...        ...        ...              ...               ...   ...   \n",
       "95        849  -1.588060  -0.066441              0.0              10.0     1   \n",
       "96        855   2.145206   0.745025              0.0               8.0     1   \n",
       "97        856   0.251469   0.483632              0.0               7.0    11   \n",
       "98        858   0.019817   0.587087              0.0               3.0    11   \n",
       "99        907  13.335131  -1.449556              0.7              12.0    11   \n",
       "\n",
       "    vendor_rating                                    vendor_tag_name  \\\n",
       "0             4.4  Arabic,Breakfast,Burgers,Desserts,Free Deliver...   \n",
       "1             4.7  Breakfast,Cakes,Crepes,Italian,Pasta,Pizzas,Sa...   \n",
       "2             4.5            Breakfast,Desserts,Free Delivery,Indian   \n",
       "3             4.5                      Burgers,Desserts,Fries,Salads   \n",
       "4             4.4                                            Burgers   \n",
       "..            ...                                                ...   \n",
       "95            4.1  American,Breakfast,Burgers,Cafe,Desserts,Free ...   \n",
       "96            4.2  American,Burgers,Desserts,Free Delivery,Fries,...   \n",
       "97            4.3  American,Breakfast,Burgers,Cafe,Desserts,Free ...   \n",
       "98            4.2  American,Breakfast,Burgers,Cafe,Desserts,Free ...   \n",
       "99            4.3                       Fatayers,Mojitos ,Sandwiches   \n",
       "\n",
       "   opening_time closing_time  \n",
       "0       11:00AM      11:30PM  \n",
       "1       08:30AM      10:30PM  \n",
       "2       08:00AM      10:45PM  \n",
       "3       10:59AM      10:30PM  \n",
       "4       11:00AM      11:45PM  \n",
       "..          ...          ...  \n",
       "95          NaN          NaN  \n",
       "96          NaN          NaN  \n",
       "97          NaN          NaN  \n",
       "98          NaN          NaN  \n",
       "99          NaN          NaN  \n",
       "\n",
       "[100 rows x 10 columns]"
      ]
     },
     "execution_count": 131,
     "metadata": {},
     "output_type": "execute_result"
    }
   ],
   "source": [
    "df_vendors"
   ]
  },
  {
   "cell_type": "markdown",
   "metadata": {},
   "source": [
    "### Saving the \"cleaned\" dataframes to .csv file for future reference, and easy access"
   ]
  },
  {
   "cell_type": "code",
   "execution_count": 132,
   "metadata": {},
   "outputs": [],
   "source": [
    "# finally we will store the \"cleaned\" dataframes to .csv files to use them later\n",
    "df_orders.to_csv('cleaned_data/df_orders.csv', index=False)"
   ]
  },
  {
   "cell_type": "code",
   "execution_count": 95,
   "metadata": {},
   "outputs": [],
   "source": [
    "df_customers.to_csv('cleaned_data/df_customers.csv', index=False)"
   ]
  },
  {
   "cell_type": "code",
   "execution_count": 134,
   "metadata": {},
   "outputs": [],
   "source": [
    "df_locations.to_csv('cleaned_data/df_locations.csv', index=False)"
   ]
  },
  {
   "cell_type": "code",
   "execution_count": 135,
   "metadata": {},
   "outputs": [],
   "source": [
    "df_vendors.to_csv('cleaned_data/df_vendors.csv', index=False)"
   ]
  },
  {
   "cell_type": "code",
   "execution_count": 96,
   "metadata": {},
   "outputs": [
    {
     "data": {
      "text/html": [
       "<div>\n",
       "<style scoped>\n",
       "    .dataframe tbody tr th:only-of-type {\n",
       "        vertical-align: middle;\n",
       "    }\n",
       "\n",
       "    .dataframe tbody tr th {\n",
       "        vertical-align: top;\n",
       "    }\n",
       "\n",
       "    .dataframe thead th {\n",
       "        text-align: right;\n",
       "    }\n",
       "</style>\n",
       "<table border=\"1\" class=\"dataframe\">\n",
       "  <thead>\n",
       "    <tr style=\"text-align: right;\">\n",
       "      <th></th>\n",
       "      <th>customer_id</th>\n",
       "      <th>gender</th>\n",
       "      <th>status</th>\n",
       "      <th>verified</th>\n",
       "      <th>created_at</th>\n",
       "    </tr>\n",
       "  </thead>\n",
       "  <tbody>\n",
       "    <tr>\n",
       "      <th>0</th>\n",
       "      <td>TCHWPBT</td>\n",
       "      <td>M</td>\n",
       "      <td>1</td>\n",
       "      <td>1</td>\n",
       "      <td>2018-02-07 19:16:23</td>\n",
       "    </tr>\n",
       "    <tr>\n",
       "      <th>1</th>\n",
       "      <td>ZGFSYCZ</td>\n",
       "      <td>M</td>\n",
       "      <td>1</td>\n",
       "      <td>1</td>\n",
       "      <td>2018-02-09 12:04:42</td>\n",
       "    </tr>\n",
       "    <tr>\n",
       "      <th>2</th>\n",
       "      <td>S2ALZFL</td>\n",
       "      <td>M</td>\n",
       "      <td>0</td>\n",
       "      <td>1</td>\n",
       "      <td>2018-03-14 18:31:43</td>\n",
       "    </tr>\n",
       "    <tr>\n",
       "      <th>3</th>\n",
       "      <td>952DBJQ</td>\n",
       "      <td>M</td>\n",
       "      <td>1</td>\n",
       "      <td>1</td>\n",
       "      <td>2018-03-15 19:47:07</td>\n",
       "    </tr>\n",
       "    <tr>\n",
       "      <th>4</th>\n",
       "      <td>1IX6FXS</td>\n",
       "      <td>M</td>\n",
       "      <td>1</td>\n",
       "      <td>1</td>\n",
       "      <td>2018-03-15 19:57:01</td>\n",
       "    </tr>\n",
       "    <tr>\n",
       "      <th>...</th>\n",
       "      <td>...</td>\n",
       "      <td>...</td>\n",
       "      <td>...</td>\n",
       "      <td>...</td>\n",
       "      <td>...</td>\n",
       "    </tr>\n",
       "    <tr>\n",
       "      <th>34518</th>\n",
       "      <td>JAI79PE</td>\n",
       "      <td>NaN</td>\n",
       "      <td>1</td>\n",
       "      <td>1</td>\n",
       "      <td>2020-03-03 13:01:13</td>\n",
       "    </tr>\n",
       "    <tr>\n",
       "      <th>34519</th>\n",
       "      <td>TR75VFL</td>\n",
       "      <td>NaN</td>\n",
       "      <td>1</td>\n",
       "      <td>1</td>\n",
       "      <td>2020-03-03 13:22:35</td>\n",
       "    </tr>\n",
       "    <tr>\n",
       "      <th>34520</th>\n",
       "      <td>SQMJ08H</td>\n",
       "      <td>NaN</td>\n",
       "      <td>1</td>\n",
       "      <td>1</td>\n",
       "      <td>2020-03-03 13:24:27</td>\n",
       "    </tr>\n",
       "    <tr>\n",
       "      <th>34521</th>\n",
       "      <td>9LW9CHN</td>\n",
       "      <td>NaN</td>\n",
       "      <td>1</td>\n",
       "      <td>1</td>\n",
       "      <td>2020-03-03 13:24:28</td>\n",
       "    </tr>\n",
       "    <tr>\n",
       "      <th>34522</th>\n",
       "      <td>LBMRK7A</td>\n",
       "      <td>NaN</td>\n",
       "      <td>1</td>\n",
       "      <td>1</td>\n",
       "      <td>2020-03-03 13:31:52</td>\n",
       "    </tr>\n",
       "  </tbody>\n",
       "</table>\n",
       "<p>34523 rows × 5 columns</p>\n",
       "</div>"
      ],
      "text/plain": [
       "      customer_id gender  status  verified           created_at\n",
       "0         TCHWPBT      M       1         1  2018-02-07 19:16:23\n",
       "1         ZGFSYCZ      M       1         1  2018-02-09 12:04:42\n",
       "2         S2ALZFL      M       0         1  2018-03-14 18:31:43\n",
       "3         952DBJQ      M       1         1  2018-03-15 19:47:07\n",
       "4         1IX6FXS      M       1         1  2018-03-15 19:57:01\n",
       "...           ...    ...     ...       ...                  ...\n",
       "34518     JAI79PE    NaN       1         1  2020-03-03 13:01:13\n",
       "34519     TR75VFL    NaN       1         1  2020-03-03 13:22:35\n",
       "34520     SQMJ08H    NaN       1         1  2020-03-03 13:24:27\n",
       "34521     9LW9CHN    NaN       1         1  2020-03-03 13:24:28\n",
       "34522     LBMRK7A    NaN       1         1  2020-03-03 13:31:52\n",
       "\n",
       "[34523 rows x 5 columns]"
      ]
     },
     "execution_count": 96,
     "metadata": {},
     "output_type": "execute_result"
    }
   ],
   "source": [
    "df_customers_clean = pd.read_csv('cleaned_data/df_customers.csv')\n",
    "df_customers_clean"
   ]
  },
  {
   "cell_type": "code",
   "execution_count": 143,
   "metadata": {},
   "outputs": [
    {
     "data": {
      "text/html": [
       "<div>\n",
       "<style scoped>\n",
       "    .dataframe tbody tr th:only-of-type {\n",
       "        vertical-align: middle;\n",
       "    }\n",
       "\n",
       "    .dataframe tbody tr th {\n",
       "        vertical-align: top;\n",
       "    }\n",
       "\n",
       "    .dataframe thead th {\n",
       "        text-align: right;\n",
       "    }\n",
       "</style>\n",
       "<table border=\"1\" class=\"dataframe\">\n",
       "  <thead>\n",
       "    <tr style=\"text-align: right;\">\n",
       "      <th></th>\n",
       "      <th>customer_id</th>\n",
       "      <th>location_number</th>\n",
       "      <th>latitude</th>\n",
       "      <th>longitude</th>\n",
       "    </tr>\n",
       "  </thead>\n",
       "  <tbody>\n",
       "    <tr>\n",
       "      <th>0</th>\n",
       "      <td>02SFNJH</td>\n",
       "      <td>0</td>\n",
       "      <td>1.682392</td>\n",
       "      <td>-78.789737</td>\n",
       "    </tr>\n",
       "    <tr>\n",
       "      <th>1</th>\n",
       "      <td>02SFNJH</td>\n",
       "      <td>1</td>\n",
       "      <td>1.679137</td>\n",
       "      <td>0.766823</td>\n",
       "    </tr>\n",
       "    <tr>\n",
       "      <th>2</th>\n",
       "      <td>02SFNJH</td>\n",
       "      <td>2</td>\n",
       "      <td>-0.498648</td>\n",
       "      <td>0.661241</td>\n",
       "    </tr>\n",
       "    <tr>\n",
       "      <th>3</th>\n",
       "      <td>RU43CXC</td>\n",
       "      <td>0</td>\n",
       "      <td>0.100853</td>\n",
       "      <td>0.438165</td>\n",
       "    </tr>\n",
       "    <tr>\n",
       "      <th>4</th>\n",
       "      <td>BDFBPRD</td>\n",
       "      <td>0</td>\n",
       "      <td>2.523125</td>\n",
       "      <td>0.733464</td>\n",
       "    </tr>\n",
       "    <tr>\n",
       "      <th>...</th>\n",
       "      <td>...</td>\n",
       "      <td>...</td>\n",
       "      <td>...</td>\n",
       "      <td>...</td>\n",
       "    </tr>\n",
       "    <tr>\n",
       "      <th>59498</th>\n",
       "      <td>9PP42SA</td>\n",
       "      <td>2</td>\n",
       "      <td>-0.788515</td>\n",
       "      <td>-78.497721</td>\n",
       "    </tr>\n",
       "    <tr>\n",
       "      <th>59499</th>\n",
       "      <td>9PP42SA</td>\n",
       "      <td>3</td>\n",
       "      <td>-1.445114</td>\n",
       "      <td>0.072558</td>\n",
       "    </tr>\n",
       "    <tr>\n",
       "      <th>59500</th>\n",
       "      <td>9PP42SA</td>\n",
       "      <td>4</td>\n",
       "      <td>-0.001785</td>\n",
       "      <td>0.431695</td>\n",
       "    </tr>\n",
       "    <tr>\n",
       "      <th>59501</th>\n",
       "      <td>HWELAU8</td>\n",
       "      <td>0</td>\n",
       "      <td>-0.066291</td>\n",
       "      <td>-78.583075</td>\n",
       "    </tr>\n",
       "    <tr>\n",
       "      <th>59502</th>\n",
       "      <td>HWELAU8</td>\n",
       "      <td>1</td>\n",
       "      <td>-0.067043</td>\n",
       "      <td>0.648221</td>\n",
       "    </tr>\n",
       "  </tbody>\n",
       "</table>\n",
       "<p>59503 rows × 4 columns</p>\n",
       "</div>"
      ],
      "text/plain": [
       "      customer_id  location_number  latitude  longitude\n",
       "0         02SFNJH                0  1.682392 -78.789737\n",
       "1         02SFNJH                1  1.679137   0.766823\n",
       "2         02SFNJH                2 -0.498648   0.661241\n",
       "3         RU43CXC                0  0.100853   0.438165\n",
       "4         BDFBPRD                0  2.523125   0.733464\n",
       "...           ...              ...       ...        ...\n",
       "59498     9PP42SA                2 -0.788515 -78.497721\n",
       "59499     9PP42SA                3 -1.445114   0.072558\n",
       "59500     9PP42SA                4 -0.001785   0.431695\n",
       "59501     HWELAU8                0 -0.066291 -78.583075\n",
       "59502     HWELAU8                1 -0.067043   0.648221\n",
       "\n",
       "[59503 rows x 4 columns]"
      ]
     },
     "execution_count": 143,
     "metadata": {},
     "output_type": "execute_result"
    }
   ],
   "source": [
    "df_locations_clean = pd.read_csv('cleaned_data/df_locations.csv')\n",
    "df_locations_clean"
   ]
  },
  {
   "cell_type": "code",
   "execution_count": 146,
   "metadata": {},
   "outputs": [
    {
     "data": {
      "text/html": [
       "<div>\n",
       "<style scoped>\n",
       "    .dataframe tbody tr th:only-of-type {\n",
       "        vertical-align: middle;\n",
       "    }\n",
       "\n",
       "    .dataframe tbody tr th {\n",
       "        vertical-align: top;\n",
       "    }\n",
       "\n",
       "    .dataframe thead th {\n",
       "        text-align: right;\n",
       "    }\n",
       "</style>\n",
       "<table border=\"1\" class=\"dataframe\">\n",
       "  <thead>\n",
       "    <tr style=\"text-align: right;\">\n",
       "      <th></th>\n",
       "      <th>vendor_id</th>\n",
       "      <th>latitude</th>\n",
       "      <th>longitude</th>\n",
       "      <th>delivery_charge</th>\n",
       "      <th>serving_distance</th>\n",
       "      <th>rank</th>\n",
       "      <th>vendor_rating</th>\n",
       "      <th>vendor_tag_name</th>\n",
       "      <th>opening_time</th>\n",
       "      <th>closing_time</th>\n",
       "    </tr>\n",
       "  </thead>\n",
       "  <tbody>\n",
       "    <tr>\n",
       "      <th>0</th>\n",
       "      <td>4</td>\n",
       "      <td>-0.588596</td>\n",
       "      <td>0.754434</td>\n",
       "      <td>0.0</td>\n",
       "      <td>6.0</td>\n",
       "      <td>11</td>\n",
       "      <td>4.4</td>\n",
       "      <td>Arabic,Breakfast,Burgers,Desserts,Free Deliver...</td>\n",
       "      <td>11:00AM</td>\n",
       "      <td>11:30PM</td>\n",
       "    </tr>\n",
       "    <tr>\n",
       "      <th>1</th>\n",
       "      <td>13</td>\n",
       "      <td>-0.471654</td>\n",
       "      <td>0.744470</td>\n",
       "      <td>0.7</td>\n",
       "      <td>5.0</td>\n",
       "      <td>11</td>\n",
       "      <td>4.7</td>\n",
       "      <td>Breakfast,Cakes,Crepes,Italian,Pasta,Pizzas,Sa...</td>\n",
       "      <td>08:30AM</td>\n",
       "      <td>10:30PM</td>\n",
       "    </tr>\n",
       "    <tr>\n",
       "      <th>2</th>\n",
       "      <td>20</td>\n",
       "      <td>-0.407527</td>\n",
       "      <td>0.643681</td>\n",
       "      <td>0.0</td>\n",
       "      <td>8.0</td>\n",
       "      <td>1</td>\n",
       "      <td>4.5</td>\n",
       "      <td>Breakfast,Desserts,Free Delivery,Indian</td>\n",
       "      <td>08:00AM</td>\n",
       "      <td>10:45PM</td>\n",
       "    </tr>\n",
       "    <tr>\n",
       "      <th>3</th>\n",
       "      <td>23</td>\n",
       "      <td>-0.585385</td>\n",
       "      <td>0.753811</td>\n",
       "      <td>0.0</td>\n",
       "      <td>5.0</td>\n",
       "      <td>11</td>\n",
       "      <td>4.5</td>\n",
       "      <td>Burgers,Desserts,Fries,Salads</td>\n",
       "      <td>10:59AM</td>\n",
       "      <td>10:30PM</td>\n",
       "    </tr>\n",
       "    <tr>\n",
       "      <th>4</th>\n",
       "      <td>28</td>\n",
       "      <td>0.480602</td>\n",
       "      <td>0.552850</td>\n",
       "      <td>0.7</td>\n",
       "      <td>15.0</td>\n",
       "      <td>11</td>\n",
       "      <td>4.4</td>\n",
       "      <td>Burgers</td>\n",
       "      <td>11:00AM</td>\n",
       "      <td>11:45PM</td>\n",
       "    </tr>\n",
       "    <tr>\n",
       "      <th>...</th>\n",
       "      <td>...</td>\n",
       "      <td>...</td>\n",
       "      <td>...</td>\n",
       "      <td>...</td>\n",
       "      <td>...</td>\n",
       "      <td>...</td>\n",
       "      <td>...</td>\n",
       "      <td>...</td>\n",
       "      <td>...</td>\n",
       "      <td>...</td>\n",
       "    </tr>\n",
       "    <tr>\n",
       "      <th>95</th>\n",
       "      <td>849</td>\n",
       "      <td>-1.588060</td>\n",
       "      <td>-0.066441</td>\n",
       "      <td>0.0</td>\n",
       "      <td>10.0</td>\n",
       "      <td>1</td>\n",
       "      <td>4.1</td>\n",
       "      <td>American,Breakfast,Burgers,Cafe,Desserts,Free ...</td>\n",
       "      <td>NaN</td>\n",
       "      <td>NaN</td>\n",
       "    </tr>\n",
       "    <tr>\n",
       "      <th>96</th>\n",
       "      <td>855</td>\n",
       "      <td>2.145206</td>\n",
       "      <td>0.745025</td>\n",
       "      <td>0.0</td>\n",
       "      <td>8.0</td>\n",
       "      <td>1</td>\n",
       "      <td>4.2</td>\n",
       "      <td>American,Burgers,Desserts,Free Delivery,Fries,...</td>\n",
       "      <td>NaN</td>\n",
       "      <td>NaN</td>\n",
       "    </tr>\n",
       "    <tr>\n",
       "      <th>97</th>\n",
       "      <td>856</td>\n",
       "      <td>0.251469</td>\n",
       "      <td>0.483632</td>\n",
       "      <td>0.0</td>\n",
       "      <td>7.0</td>\n",
       "      <td>11</td>\n",
       "      <td>4.3</td>\n",
       "      <td>American,Breakfast,Burgers,Cafe,Desserts,Free ...</td>\n",
       "      <td>NaN</td>\n",
       "      <td>NaN</td>\n",
       "    </tr>\n",
       "    <tr>\n",
       "      <th>98</th>\n",
       "      <td>858</td>\n",
       "      <td>0.019817</td>\n",
       "      <td>0.587087</td>\n",
       "      <td>0.0</td>\n",
       "      <td>3.0</td>\n",
       "      <td>11</td>\n",
       "      <td>4.2</td>\n",
       "      <td>American,Breakfast,Burgers,Cafe,Desserts,Free ...</td>\n",
       "      <td>NaN</td>\n",
       "      <td>NaN</td>\n",
       "    </tr>\n",
       "    <tr>\n",
       "      <th>99</th>\n",
       "      <td>907</td>\n",
       "      <td>13.335131</td>\n",
       "      <td>-1.449556</td>\n",
       "      <td>0.7</td>\n",
       "      <td>12.0</td>\n",
       "      <td>11</td>\n",
       "      <td>4.3</td>\n",
       "      <td>Fatayers,Mojitos ,Sandwiches</td>\n",
       "      <td>NaN</td>\n",
       "      <td>NaN</td>\n",
       "    </tr>\n",
       "  </tbody>\n",
       "</table>\n",
       "<p>100 rows × 10 columns</p>\n",
       "</div>"
      ],
      "text/plain": [
       "    vendor_id   latitude  longitude  delivery_charge  serving_distance  rank  \\\n",
       "0           4  -0.588596   0.754434              0.0               6.0    11   \n",
       "1          13  -0.471654   0.744470              0.7               5.0    11   \n",
       "2          20  -0.407527   0.643681              0.0               8.0     1   \n",
       "3          23  -0.585385   0.753811              0.0               5.0    11   \n",
       "4          28   0.480602   0.552850              0.7              15.0    11   \n",
       "..        ...        ...        ...              ...               ...   ...   \n",
       "95        849  -1.588060  -0.066441              0.0              10.0     1   \n",
       "96        855   2.145206   0.745025              0.0               8.0     1   \n",
       "97        856   0.251469   0.483632              0.0               7.0    11   \n",
       "98        858   0.019817   0.587087              0.0               3.0    11   \n",
       "99        907  13.335131  -1.449556              0.7              12.0    11   \n",
       "\n",
       "    vendor_rating                                    vendor_tag_name  \\\n",
       "0             4.4  Arabic,Breakfast,Burgers,Desserts,Free Deliver...   \n",
       "1             4.7  Breakfast,Cakes,Crepes,Italian,Pasta,Pizzas,Sa...   \n",
       "2             4.5            Breakfast,Desserts,Free Delivery,Indian   \n",
       "3             4.5                      Burgers,Desserts,Fries,Salads   \n",
       "4             4.4                                            Burgers   \n",
       "..            ...                                                ...   \n",
       "95            4.1  American,Breakfast,Burgers,Cafe,Desserts,Free ...   \n",
       "96            4.2  American,Burgers,Desserts,Free Delivery,Fries,...   \n",
       "97            4.3  American,Breakfast,Burgers,Cafe,Desserts,Free ...   \n",
       "98            4.2  American,Breakfast,Burgers,Cafe,Desserts,Free ...   \n",
       "99            4.3                       Fatayers,Mojitos ,Sandwiches   \n",
       "\n",
       "   opening_time closing_time  \n",
       "0       11:00AM      11:30PM  \n",
       "1       08:30AM      10:30PM  \n",
       "2       08:00AM      10:45PM  \n",
       "3       10:59AM      10:30PM  \n",
       "4       11:00AM      11:45PM  \n",
       "..          ...          ...  \n",
       "95          NaN          NaN  \n",
       "96          NaN          NaN  \n",
       "97          NaN          NaN  \n",
       "98          NaN          NaN  \n",
       "99          NaN          NaN  \n",
       "\n",
       "[100 rows x 10 columns]"
      ]
     },
     "execution_count": 146,
     "metadata": {},
     "output_type": "execute_result"
    }
   ],
   "source": [
    "df_vendors_clean = pd.read_csv('cleaned_data/df_vendors.csv')\n",
    "df_vendors_clean"
   ]
  },
  {
   "cell_type": "code",
   "execution_count": 148,
   "metadata": {},
   "outputs": [
    {
     "data": {
      "text/html": [
       "<div>\n",
       "<style scoped>\n",
       "    .dataframe tbody tr th:only-of-type {\n",
       "        vertical-align: middle;\n",
       "    }\n",
       "\n",
       "    .dataframe tbody tr th {\n",
       "        vertical-align: top;\n",
       "    }\n",
       "\n",
       "    .dataframe thead th {\n",
       "        text-align: right;\n",
       "    }\n",
       "</style>\n",
       "<table border=\"1\" class=\"dataframe\">\n",
       "  <thead>\n",
       "    <tr style=\"text-align: right;\">\n",
       "      <th></th>\n",
       "      <th>order_id</th>\n",
       "      <th>customer_id</th>\n",
       "      <th>vendor_id</th>\n",
       "      <th>location_number</th>\n",
       "      <th>item_count</th>\n",
       "      <th>grand_total</th>\n",
       "      <th>payment_mode</th>\n",
       "      <th>vendor_discount_amount</th>\n",
       "      <th>deliverydistance</th>\n",
       "      <th>delivered_time</th>\n",
       "      <th>created_at</th>\n",
       "    </tr>\n",
       "  </thead>\n",
       "  <tbody>\n",
       "    <tr>\n",
       "      <th>0</th>\n",
       "      <td>163238.0</td>\n",
       "      <td>92PEE24</td>\n",
       "      <td>105</td>\n",
       "      <td>0</td>\n",
       "      <td>1.0</td>\n",
       "      <td>7.6</td>\n",
       "      <td>2</td>\n",
       "      <td>0.0</td>\n",
       "      <td>0.00</td>\n",
       "      <td>NaN</td>\n",
       "      <td>2019-08-01 05:30:16</td>\n",
       "    </tr>\n",
       "    <tr>\n",
       "      <th>1</th>\n",
       "      <td>163240.0</td>\n",
       "      <td>QS68UD8</td>\n",
       "      <td>294</td>\n",
       "      <td>0</td>\n",
       "      <td>1.0</td>\n",
       "      <td>8.7</td>\n",
       "      <td>1</td>\n",
       "      <td>0.0</td>\n",
       "      <td>0.00</td>\n",
       "      <td>NaN</td>\n",
       "      <td>2019-08-01 05:31:10</td>\n",
       "    </tr>\n",
       "    <tr>\n",
       "      <th>2</th>\n",
       "      <td>163241.0</td>\n",
       "      <td>MB7VY5F</td>\n",
       "      <td>83</td>\n",
       "      <td>0</td>\n",
       "      <td>2.0</td>\n",
       "      <td>14.4</td>\n",
       "      <td>1</td>\n",
       "      <td>0.0</td>\n",
       "      <td>0.00</td>\n",
       "      <td>NaN</td>\n",
       "      <td>2019-08-01 05:31:33</td>\n",
       "    </tr>\n",
       "    <tr>\n",
       "      <th>3</th>\n",
       "      <td>163244.0</td>\n",
       "      <td>KDJ951Y</td>\n",
       "      <td>90</td>\n",
       "      <td>0</td>\n",
       "      <td>1.0</td>\n",
       "      <td>7.1</td>\n",
       "      <td>1</td>\n",
       "      <td>0.0</td>\n",
       "      <td>0.00</td>\n",
       "      <td>NaN</td>\n",
       "      <td>2019-08-01 05:34:54</td>\n",
       "    </tr>\n",
       "    <tr>\n",
       "      <th>4</th>\n",
       "      <td>163245.0</td>\n",
       "      <td>BAL0RVT</td>\n",
       "      <td>83</td>\n",
       "      <td>0</td>\n",
       "      <td>4.0</td>\n",
       "      <td>27.2</td>\n",
       "      <td>1</td>\n",
       "      <td>0.0</td>\n",
       "      <td>0.00</td>\n",
       "      <td>NaN</td>\n",
       "      <td>2019-08-01 05:35:51</td>\n",
       "    </tr>\n",
       "    <tr>\n",
       "      <th>...</th>\n",
       "      <td>...</td>\n",
       "      <td>...</td>\n",
       "      <td>...</td>\n",
       "      <td>...</td>\n",
       "      <td>...</td>\n",
       "      <td>...</td>\n",
       "      <td>...</td>\n",
       "      <td>...</td>\n",
       "      <td>...</td>\n",
       "      <td>...</td>\n",
       "      <td>...</td>\n",
       "    </tr>\n",
       "    <tr>\n",
       "      <th>135286</th>\n",
       "      <td>415507.0</td>\n",
       "      <td>L6LFY6H</td>\n",
       "      <td>67</td>\n",
       "      <td>0</td>\n",
       "      <td>1.0</td>\n",
       "      <td>13.3</td>\n",
       "      <td>2</td>\n",
       "      <td>0.0</td>\n",
       "      <td>1.75</td>\n",
       "      <td>2020-03-01 00:29:42</td>\n",
       "      <td>2020-02-29 23:47:59</td>\n",
       "    </tr>\n",
       "    <tr>\n",
       "      <th>135287</th>\n",
       "      <td>415508.0</td>\n",
       "      <td>2GMMVGI</td>\n",
       "      <td>79</td>\n",
       "      <td>0</td>\n",
       "      <td>3.0</td>\n",
       "      <td>9.5</td>\n",
       "      <td>1</td>\n",
       "      <td>0.0</td>\n",
       "      <td>12.81</td>\n",
       "      <td>2020-03-01 01:03:14</td>\n",
       "      <td>2020-02-29 23:48:37</td>\n",
       "    </tr>\n",
       "    <tr>\n",
       "      <th>135288</th>\n",
       "      <td>415510.0</td>\n",
       "      <td>LYTAAV0</td>\n",
       "      <td>28</td>\n",
       "      <td>2</td>\n",
       "      <td>4.0</td>\n",
       "      <td>18.2</td>\n",
       "      <td>2</td>\n",
       "      <td>0.0</td>\n",
       "      <td>11.15</td>\n",
       "      <td>2020-03-01 00:36:37</td>\n",
       "      <td>2020-02-29 23:48:43</td>\n",
       "    </tr>\n",
       "    <tr>\n",
       "      <th>135289</th>\n",
       "      <td>415512.0</td>\n",
       "      <td>NEV9A5D</td>\n",
       "      <td>841</td>\n",
       "      <td>0</td>\n",
       "      <td>3.0</td>\n",
       "      <td>7.7</td>\n",
       "      <td>1</td>\n",
       "      <td>0.0</td>\n",
       "      <td>2.29</td>\n",
       "      <td>2020-03-01 00:36:52</td>\n",
       "      <td>2020-02-29 23:50:10</td>\n",
       "    </tr>\n",
       "    <tr>\n",
       "      <th>135290</th>\n",
       "      <td>415515.0</td>\n",
       "      <td>77KCRC1</td>\n",
       "      <td>79</td>\n",
       "      <td>4</td>\n",
       "      <td>1.0</td>\n",
       "      <td>6.8</td>\n",
       "      <td>2</td>\n",
       "      <td>0.0</td>\n",
       "      <td>3.92</td>\n",
       "      <td>2020-03-01 00:28:06</td>\n",
       "      <td>2020-02-29 23:52:14</td>\n",
       "    </tr>\n",
       "  </tbody>\n",
       "</table>\n",
       "<p>135291 rows × 11 columns</p>\n",
       "</div>"
      ],
      "text/plain": [
       "        order_id customer_id  vendor_id  location_number  item_count  \\\n",
       "0       163238.0     92PEE24        105                0         1.0   \n",
       "1       163240.0     QS68UD8        294                0         1.0   \n",
       "2       163241.0     MB7VY5F         83                0         2.0   \n",
       "3       163244.0     KDJ951Y         90                0         1.0   \n",
       "4       163245.0     BAL0RVT         83                0         4.0   \n",
       "...          ...         ...        ...              ...         ...   \n",
       "135286  415507.0     L6LFY6H         67                0         1.0   \n",
       "135287  415508.0     2GMMVGI         79                0         3.0   \n",
       "135288  415510.0     LYTAAV0         28                2         4.0   \n",
       "135289  415512.0     NEV9A5D        841                0         3.0   \n",
       "135290  415515.0     77KCRC1         79                4         1.0   \n",
       "\n",
       "        grand_total  payment_mode  vendor_discount_amount  deliverydistance  \\\n",
       "0               7.6             2                     0.0              0.00   \n",
       "1               8.7             1                     0.0              0.00   \n",
       "2              14.4             1                     0.0              0.00   \n",
       "3               7.1             1                     0.0              0.00   \n",
       "4              27.2             1                     0.0              0.00   \n",
       "...             ...           ...                     ...               ...   \n",
       "135286         13.3             2                     0.0              1.75   \n",
       "135287          9.5             1                     0.0             12.81   \n",
       "135288         18.2             2                     0.0             11.15   \n",
       "135289          7.7             1                     0.0              2.29   \n",
       "135290          6.8             2                     0.0              3.92   \n",
       "\n",
       "             delivered_time           created_at  \n",
       "0                       NaN  2019-08-01 05:30:16  \n",
       "1                       NaN  2019-08-01 05:31:10  \n",
       "2                       NaN  2019-08-01 05:31:33  \n",
       "3                       NaN  2019-08-01 05:34:54  \n",
       "4                       NaN  2019-08-01 05:35:51  \n",
       "...                     ...                  ...  \n",
       "135286  2020-03-01 00:29:42  2020-02-29 23:47:59  \n",
       "135287  2020-03-01 01:03:14  2020-02-29 23:48:37  \n",
       "135288  2020-03-01 00:36:37  2020-02-29 23:48:43  \n",
       "135289  2020-03-01 00:36:52  2020-02-29 23:50:10  \n",
       "135290  2020-03-01 00:28:06  2020-02-29 23:52:14  \n",
       "\n",
       "[135291 rows x 11 columns]"
      ]
     },
     "execution_count": 148,
     "metadata": {},
     "output_type": "execute_result"
    }
   ],
   "source": [
    "df_orders_clean = pd.read_csv('cleaned_data/df_orders.csv')\n",
    "df_orders_clean"
   ]
  }
 ],
 "metadata": {
  "kernelspec": {
   "display_name": "comp500crw",
   "language": "python",
   "name": "comp500crw"
  },
  "language_info": {
   "codemirror_mode": {
    "name": "ipython",
    "version": 3
   },
   "file_extension": ".py",
   "mimetype": "text/x-python",
   "name": "python",
   "nbconvert_exporter": "python",
   "pygments_lexer": "ipython3",
   "version": "3.8.6"
  }
 },
 "nbformat": 4,
 "nbformat_minor": 4
}
